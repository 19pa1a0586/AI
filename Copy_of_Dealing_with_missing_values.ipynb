{
  "nbformat": 4,
  "nbformat_minor": 0,
  "metadata": {
    "colab": {
      "name": "Copy of Dealing with missing values.ipynb",
      "provenance": [],
      "include_colab_link": true
    },
    "kernelspec": {
      "name": "python3",
      "display_name": "Python 3"
    }
  },
  "cells": [
    {
      "cell_type": "markdown",
      "metadata": {
        "id": "view-in-github",
        "colab_type": "text"
      },
      "source": [
        "<a href=\"https://colab.research.google.com/github/19pa1a0586/AI/blob/master/Copy_of_Dealing_with_missing_values.ipynb\" target=\"_parent\"><img src=\"https://colab.research.google.com/assets/colab-badge.svg\" alt=\"Open In Colab\"/></a>"
      ]
    },
    {
      "cell_type": "markdown",
      "metadata": {
        "id": "NcwabC56asqc",
        "colab_type": "text"
      },
      "source": [
        "### In this lecture\n",
        "* Identifying missing values\n",
        "* Approaches to fill the missing values"
      ]
    },
    {
      "cell_type": "code",
      "metadata": {
        "id": "jseKa0vTae5w",
        "colab_type": "code",
        "colab": {}
      },
      "source": [
        "import pandas as pd\n",
        "import numpy as np"
      ],
      "execution_count": null,
      "outputs": []
    },
    {
      "cell_type": "code",
      "metadata": {
        "id": "4S0xFan6a5fY",
        "colab_type": "code",
        "colab": {}
      },
      "source": [
        "data = pd.read_csv('https://raw.githubusercontent.com/bhargav23/Dataset/master/Toyota.csv',index_col=0,na_values=['??','????'])"
      ],
      "execution_count": null,
      "outputs": []
    },
    {
      "cell_type": "code",
      "metadata": {
        "id": "s5ocjeF0d82Z",
        "colab_type": "code",
        "colab": {
          "base_uri": "https://localhost:8080/",
          "height": 195
        },
        "outputId": "bf47e38f-cbdc-4a2a-f950-235ee38fbb89"
      },
      "source": [
        "data.head()"
      ],
      "execution_count": null,
      "outputs": [
        {
          "output_type": "execute_result",
          "data": {
            "text/html": [
              "<div>\n",
              "<style scoped>\n",
              "    .dataframe tbody tr th:only-of-type {\n",
              "        vertical-align: middle;\n",
              "    }\n",
              "\n",
              "    .dataframe tbody tr th {\n",
              "        vertical-align: top;\n",
              "    }\n",
              "\n",
              "    .dataframe thead th {\n",
              "        text-align: right;\n",
              "    }\n",
              "</style>\n",
              "<table border=\"1\" class=\"dataframe\">\n",
              "  <thead>\n",
              "    <tr style=\"text-align: right;\">\n",
              "      <th></th>\n",
              "      <th>Price</th>\n",
              "      <th>Age</th>\n",
              "      <th>KM</th>\n",
              "      <th>FuelType</th>\n",
              "      <th>HP</th>\n",
              "      <th>MetColor</th>\n",
              "      <th>Automatic</th>\n",
              "      <th>CC</th>\n",
              "      <th>Doors</th>\n",
              "      <th>Weight</th>\n",
              "    </tr>\n",
              "  </thead>\n",
              "  <tbody>\n",
              "    <tr>\n",
              "      <th>0</th>\n",
              "      <td>13500</td>\n",
              "      <td>23.0</td>\n",
              "      <td>46986.0</td>\n",
              "      <td>Diesel</td>\n",
              "      <td>90.0</td>\n",
              "      <td>1.0</td>\n",
              "      <td>0</td>\n",
              "      <td>2000</td>\n",
              "      <td>three</td>\n",
              "      <td>1165</td>\n",
              "    </tr>\n",
              "    <tr>\n",
              "      <th>1</th>\n",
              "      <td>13750</td>\n",
              "      <td>23.0</td>\n",
              "      <td>72937.0</td>\n",
              "      <td>Diesel</td>\n",
              "      <td>90.0</td>\n",
              "      <td>1.0</td>\n",
              "      <td>0</td>\n",
              "      <td>2000</td>\n",
              "      <td>3</td>\n",
              "      <td>1165</td>\n",
              "    </tr>\n",
              "    <tr>\n",
              "      <th>2</th>\n",
              "      <td>13950</td>\n",
              "      <td>24.0</td>\n",
              "      <td>41711.0</td>\n",
              "      <td>Diesel</td>\n",
              "      <td>90.0</td>\n",
              "      <td>NaN</td>\n",
              "      <td>0</td>\n",
              "      <td>2000</td>\n",
              "      <td>3</td>\n",
              "      <td>1165</td>\n",
              "    </tr>\n",
              "    <tr>\n",
              "      <th>3</th>\n",
              "      <td>14950</td>\n",
              "      <td>26.0</td>\n",
              "      <td>48000.0</td>\n",
              "      <td>Diesel</td>\n",
              "      <td>90.0</td>\n",
              "      <td>0.0</td>\n",
              "      <td>0</td>\n",
              "      <td>2000</td>\n",
              "      <td>3</td>\n",
              "      <td>1165</td>\n",
              "    </tr>\n",
              "    <tr>\n",
              "      <th>4</th>\n",
              "      <td>13750</td>\n",
              "      <td>30.0</td>\n",
              "      <td>38500.0</td>\n",
              "      <td>Diesel</td>\n",
              "      <td>90.0</td>\n",
              "      <td>0.0</td>\n",
              "      <td>0</td>\n",
              "      <td>2000</td>\n",
              "      <td>3</td>\n",
              "      <td>1170</td>\n",
              "    </tr>\n",
              "  </tbody>\n",
              "</table>\n",
              "</div>"
            ],
            "text/plain": [
              "   Price   Age       KM FuelType  ...  Automatic    CC  Doors  Weight\n",
              "0  13500  23.0  46986.0   Diesel  ...          0  2000  three    1165\n",
              "1  13750  23.0  72937.0   Diesel  ...          0  2000      3    1165\n",
              "2  13950  24.0  41711.0   Diesel  ...          0  2000      3    1165\n",
              "3  14950  26.0  48000.0   Diesel  ...          0  2000      3    1165\n",
              "4  13750  30.0  38500.0   Diesel  ...          0  2000      3    1170\n",
              "\n",
              "[5 rows x 10 columns]"
            ]
          },
          "metadata": {
            "tags": []
          },
          "execution_count": 3
        }
      ]
    },
    {
      "cell_type": "markdown",
      "metadata": {
        "id": "fTgApQ-MbMWI",
        "colab_type": "text"
      },
      "source": [
        "### Identifying missing values\n",
        "* In Pandas dataframes missing data is represented by **NaN** (an acronym for Not a Number)\n",
        "* To check null values in Pandas dataframes **isnull()** and **isna()** are used\n",
        "* These functions returns a dataframe of Boolean values which are **True** for **NaN** values"
      ]
    },
    {
      "cell_type": "code",
      "metadata": {
        "id": "NjBX4AC6bCnp",
        "colab_type": "code",
        "colab": {
          "base_uri": "https://localhost:8080/",
          "height": 402
        },
        "outputId": "3250e6cc-5a65-4021-cfa0-9d4f66534a64"
      },
      "source": [
        "data.isnull()"
      ],
      "execution_count": null,
      "outputs": [
        {
          "output_type": "execute_result",
          "data": {
            "text/html": [
              "<div>\n",
              "<style scoped>\n",
              "    .dataframe tbody tr th:only-of-type {\n",
              "        vertical-align: middle;\n",
              "    }\n",
              "\n",
              "    .dataframe tbody tr th {\n",
              "        vertical-align: top;\n",
              "    }\n",
              "\n",
              "    .dataframe thead th {\n",
              "        text-align: right;\n",
              "    }\n",
              "</style>\n",
              "<table border=\"1\" class=\"dataframe\">\n",
              "  <thead>\n",
              "    <tr style=\"text-align: right;\">\n",
              "      <th></th>\n",
              "      <th>Price</th>\n",
              "      <th>Age</th>\n",
              "      <th>KM</th>\n",
              "      <th>FuelType</th>\n",
              "      <th>HP</th>\n",
              "      <th>MetColor</th>\n",
              "      <th>Automatic</th>\n",
              "      <th>CC</th>\n",
              "      <th>Doors</th>\n",
              "      <th>Weight</th>\n",
              "    </tr>\n",
              "  </thead>\n",
              "  <tbody>\n",
              "    <tr>\n",
              "      <th>0</th>\n",
              "      <td>False</td>\n",
              "      <td>False</td>\n",
              "      <td>False</td>\n",
              "      <td>False</td>\n",
              "      <td>False</td>\n",
              "      <td>False</td>\n",
              "      <td>False</td>\n",
              "      <td>False</td>\n",
              "      <td>False</td>\n",
              "      <td>False</td>\n",
              "    </tr>\n",
              "    <tr>\n",
              "      <th>1</th>\n",
              "      <td>False</td>\n",
              "      <td>False</td>\n",
              "      <td>False</td>\n",
              "      <td>False</td>\n",
              "      <td>False</td>\n",
              "      <td>False</td>\n",
              "      <td>False</td>\n",
              "      <td>False</td>\n",
              "      <td>False</td>\n",
              "      <td>False</td>\n",
              "    </tr>\n",
              "    <tr>\n",
              "      <th>2</th>\n",
              "      <td>False</td>\n",
              "      <td>False</td>\n",
              "      <td>False</td>\n",
              "      <td>False</td>\n",
              "      <td>False</td>\n",
              "      <td>True</td>\n",
              "      <td>False</td>\n",
              "      <td>False</td>\n",
              "      <td>False</td>\n",
              "      <td>False</td>\n",
              "    </tr>\n",
              "    <tr>\n",
              "      <th>3</th>\n",
              "      <td>False</td>\n",
              "      <td>False</td>\n",
              "      <td>False</td>\n",
              "      <td>False</td>\n",
              "      <td>False</td>\n",
              "      <td>False</td>\n",
              "      <td>False</td>\n",
              "      <td>False</td>\n",
              "      <td>False</td>\n",
              "      <td>False</td>\n",
              "    </tr>\n",
              "    <tr>\n",
              "      <th>4</th>\n",
              "      <td>False</td>\n",
              "      <td>False</td>\n",
              "      <td>False</td>\n",
              "      <td>False</td>\n",
              "      <td>False</td>\n",
              "      <td>False</td>\n",
              "      <td>False</td>\n",
              "      <td>False</td>\n",
              "      <td>False</td>\n",
              "      <td>False</td>\n",
              "    </tr>\n",
              "    <tr>\n",
              "      <th>...</th>\n",
              "      <td>...</td>\n",
              "      <td>...</td>\n",
              "      <td>...</td>\n",
              "      <td>...</td>\n",
              "      <td>...</td>\n",
              "      <td>...</td>\n",
              "      <td>...</td>\n",
              "      <td>...</td>\n",
              "      <td>...</td>\n",
              "      <td>...</td>\n",
              "    </tr>\n",
              "    <tr>\n",
              "      <th>1431</th>\n",
              "      <td>False</td>\n",
              "      <td>True</td>\n",
              "      <td>False</td>\n",
              "      <td>False</td>\n",
              "      <td>False</td>\n",
              "      <td>False</td>\n",
              "      <td>False</td>\n",
              "      <td>False</td>\n",
              "      <td>False</td>\n",
              "      <td>False</td>\n",
              "    </tr>\n",
              "    <tr>\n",
              "      <th>1432</th>\n",
              "      <td>False</td>\n",
              "      <td>False</td>\n",
              "      <td>True</td>\n",
              "      <td>False</td>\n",
              "      <td>False</td>\n",
              "      <td>False</td>\n",
              "      <td>False</td>\n",
              "      <td>False</td>\n",
              "      <td>False</td>\n",
              "      <td>False</td>\n",
              "    </tr>\n",
              "    <tr>\n",
              "      <th>1433</th>\n",
              "      <td>False</td>\n",
              "      <td>True</td>\n",
              "      <td>False</td>\n",
              "      <td>False</td>\n",
              "      <td>False</td>\n",
              "      <td>False</td>\n",
              "      <td>False</td>\n",
              "      <td>False</td>\n",
              "      <td>False</td>\n",
              "      <td>False</td>\n",
              "    </tr>\n",
              "    <tr>\n",
              "      <th>1434</th>\n",
              "      <td>False</td>\n",
              "      <td>False</td>\n",
              "      <td>True</td>\n",
              "      <td>True</td>\n",
              "      <td>False</td>\n",
              "      <td>False</td>\n",
              "      <td>False</td>\n",
              "      <td>False</td>\n",
              "      <td>False</td>\n",
              "      <td>False</td>\n",
              "    </tr>\n",
              "    <tr>\n",
              "      <th>1435</th>\n",
              "      <td>False</td>\n",
              "      <td>False</td>\n",
              "      <td>False</td>\n",
              "      <td>False</td>\n",
              "      <td>False</td>\n",
              "      <td>False</td>\n",
              "      <td>False</td>\n",
              "      <td>False</td>\n",
              "      <td>False</td>\n",
              "      <td>False</td>\n",
              "    </tr>\n",
              "  </tbody>\n",
              "</table>\n",
              "<p>1436 rows × 10 columns</p>\n",
              "</div>"
            ],
            "text/plain": [
              "      Price    Age     KM  FuelType  ...  Automatic     CC  Doors  Weight\n",
              "0     False  False  False     False  ...      False  False  False   False\n",
              "1     False  False  False     False  ...      False  False  False   False\n",
              "2     False  False  False     False  ...      False  False  False   False\n",
              "3     False  False  False     False  ...      False  False  False   False\n",
              "4     False  False  False     False  ...      False  False  False   False\n",
              "...     ...    ...    ...       ...  ...        ...    ...    ...     ...\n",
              "1431  False   True  False     False  ...      False  False  False   False\n",
              "1432  False  False   True     False  ...      False  False  False   False\n",
              "1433  False   True  False     False  ...      False  False  False   False\n",
              "1434  False  False   True      True  ...      False  False  False   False\n",
              "1435  False  False  False     False  ...      False  False  False   False\n",
              "\n",
              "[1436 rows x 10 columns]"
            ]
          },
          "metadata": {
            "tags": []
          },
          "execution_count": 4
        }
      ]
    },
    {
      "cell_type": "code",
      "metadata": {
        "id": "_pBp7I9TbnZ-",
        "colab_type": "code",
        "colab": {
          "base_uri": "https://localhost:8080/",
          "height": 402
        },
        "outputId": "fd08fcd1-c28f-4a58-a12b-27ec44ff2045"
      },
      "source": [
        "data.isna()"
      ],
      "execution_count": null,
      "outputs": [
        {
          "output_type": "execute_result",
          "data": {
            "text/html": [
              "<div>\n",
              "<style scoped>\n",
              "    .dataframe tbody tr th:only-of-type {\n",
              "        vertical-align: middle;\n",
              "    }\n",
              "\n",
              "    .dataframe tbody tr th {\n",
              "        vertical-align: top;\n",
              "    }\n",
              "\n",
              "    .dataframe thead th {\n",
              "        text-align: right;\n",
              "    }\n",
              "</style>\n",
              "<table border=\"1\" class=\"dataframe\">\n",
              "  <thead>\n",
              "    <tr style=\"text-align: right;\">\n",
              "      <th></th>\n",
              "      <th>Price</th>\n",
              "      <th>Age</th>\n",
              "      <th>KM</th>\n",
              "      <th>FuelType</th>\n",
              "      <th>HP</th>\n",
              "      <th>MetColor</th>\n",
              "      <th>Automatic</th>\n",
              "      <th>CC</th>\n",
              "      <th>Doors</th>\n",
              "      <th>Weight</th>\n",
              "    </tr>\n",
              "  </thead>\n",
              "  <tbody>\n",
              "    <tr>\n",
              "      <th>0</th>\n",
              "      <td>False</td>\n",
              "      <td>False</td>\n",
              "      <td>False</td>\n",
              "      <td>False</td>\n",
              "      <td>False</td>\n",
              "      <td>False</td>\n",
              "      <td>False</td>\n",
              "      <td>False</td>\n",
              "      <td>False</td>\n",
              "      <td>False</td>\n",
              "    </tr>\n",
              "    <tr>\n",
              "      <th>1</th>\n",
              "      <td>False</td>\n",
              "      <td>False</td>\n",
              "      <td>False</td>\n",
              "      <td>False</td>\n",
              "      <td>False</td>\n",
              "      <td>False</td>\n",
              "      <td>False</td>\n",
              "      <td>False</td>\n",
              "      <td>False</td>\n",
              "      <td>False</td>\n",
              "    </tr>\n",
              "    <tr>\n",
              "      <th>2</th>\n",
              "      <td>False</td>\n",
              "      <td>False</td>\n",
              "      <td>False</td>\n",
              "      <td>False</td>\n",
              "      <td>False</td>\n",
              "      <td>True</td>\n",
              "      <td>False</td>\n",
              "      <td>False</td>\n",
              "      <td>False</td>\n",
              "      <td>False</td>\n",
              "    </tr>\n",
              "    <tr>\n",
              "      <th>3</th>\n",
              "      <td>False</td>\n",
              "      <td>False</td>\n",
              "      <td>False</td>\n",
              "      <td>False</td>\n",
              "      <td>False</td>\n",
              "      <td>False</td>\n",
              "      <td>False</td>\n",
              "      <td>False</td>\n",
              "      <td>False</td>\n",
              "      <td>False</td>\n",
              "    </tr>\n",
              "    <tr>\n",
              "      <th>4</th>\n",
              "      <td>False</td>\n",
              "      <td>False</td>\n",
              "      <td>False</td>\n",
              "      <td>False</td>\n",
              "      <td>False</td>\n",
              "      <td>False</td>\n",
              "      <td>False</td>\n",
              "      <td>False</td>\n",
              "      <td>False</td>\n",
              "      <td>False</td>\n",
              "    </tr>\n",
              "    <tr>\n",
              "      <th>...</th>\n",
              "      <td>...</td>\n",
              "      <td>...</td>\n",
              "      <td>...</td>\n",
              "      <td>...</td>\n",
              "      <td>...</td>\n",
              "      <td>...</td>\n",
              "      <td>...</td>\n",
              "      <td>...</td>\n",
              "      <td>...</td>\n",
              "      <td>...</td>\n",
              "    </tr>\n",
              "    <tr>\n",
              "      <th>1431</th>\n",
              "      <td>False</td>\n",
              "      <td>True</td>\n",
              "      <td>False</td>\n",
              "      <td>False</td>\n",
              "      <td>False</td>\n",
              "      <td>False</td>\n",
              "      <td>False</td>\n",
              "      <td>False</td>\n",
              "      <td>False</td>\n",
              "      <td>False</td>\n",
              "    </tr>\n",
              "    <tr>\n",
              "      <th>1432</th>\n",
              "      <td>False</td>\n",
              "      <td>False</td>\n",
              "      <td>True</td>\n",
              "      <td>False</td>\n",
              "      <td>False</td>\n",
              "      <td>False</td>\n",
              "      <td>False</td>\n",
              "      <td>False</td>\n",
              "      <td>False</td>\n",
              "      <td>False</td>\n",
              "    </tr>\n",
              "    <tr>\n",
              "      <th>1433</th>\n",
              "      <td>False</td>\n",
              "      <td>True</td>\n",
              "      <td>False</td>\n",
              "      <td>False</td>\n",
              "      <td>False</td>\n",
              "      <td>False</td>\n",
              "      <td>False</td>\n",
              "      <td>False</td>\n",
              "      <td>False</td>\n",
              "      <td>False</td>\n",
              "    </tr>\n",
              "    <tr>\n",
              "      <th>1434</th>\n",
              "      <td>False</td>\n",
              "      <td>False</td>\n",
              "      <td>True</td>\n",
              "      <td>True</td>\n",
              "      <td>False</td>\n",
              "      <td>False</td>\n",
              "      <td>False</td>\n",
              "      <td>False</td>\n",
              "      <td>False</td>\n",
              "      <td>False</td>\n",
              "    </tr>\n",
              "    <tr>\n",
              "      <th>1435</th>\n",
              "      <td>False</td>\n",
              "      <td>False</td>\n",
              "      <td>False</td>\n",
              "      <td>False</td>\n",
              "      <td>False</td>\n",
              "      <td>False</td>\n",
              "      <td>False</td>\n",
              "      <td>False</td>\n",
              "      <td>False</td>\n",
              "      <td>False</td>\n",
              "    </tr>\n",
              "  </tbody>\n",
              "</table>\n",
              "<p>1436 rows × 10 columns</p>\n",
              "</div>"
            ],
            "text/plain": [
              "      Price    Age     KM  FuelType  ...  Automatic     CC  Doors  Weight\n",
              "0     False  False  False     False  ...      False  False  False   False\n",
              "1     False  False  False     False  ...      False  False  False   False\n",
              "2     False  False  False     False  ...      False  False  False   False\n",
              "3     False  False  False     False  ...      False  False  False   False\n",
              "4     False  False  False     False  ...      False  False  False   False\n",
              "...     ...    ...    ...       ...  ...        ...    ...    ...     ...\n",
              "1431  False   True  False     False  ...      False  False  False   False\n",
              "1432  False  False   True     False  ...      False  False  False   False\n",
              "1433  False   True  False     False  ...      False  False  False   False\n",
              "1434  False  False   True      True  ...      False  False  False   False\n",
              "1435  False  False  False     False  ...      False  False  False   False\n",
              "\n",
              "[1436 rows x 10 columns]"
            ]
          },
          "metadata": {
            "tags": []
          },
          "execution_count": 5
        }
      ]
    },
    {
      "cell_type": "markdown",
      "metadata": {
        "id": "s3Xkb6vNbuKW",
        "colab_type": "text"
      },
      "source": [
        "### Identifying missing values\n",
        "* Dataframe.isna().sum(), \n",
        "* Dataframe.isnull().sum()\n",
        "* To check the count of missing values present in each column"
      ]
    },
    {
      "cell_type": "code",
      "metadata": {
        "id": "arTxJPN0bqUj",
        "colab_type": "code",
        "colab": {
          "base_uri": "https://localhost:8080/",
          "height": 202
        },
        "outputId": "16a1066b-0850-47f7-c76e-8b755d2441c7"
      },
      "source": [
        "data.isnull().sum()"
      ],
      "execution_count": null,
      "outputs": [
        {
          "output_type": "execute_result",
          "data": {
            "text/plain": [
              "Price          0\n",
              "Age          100\n",
              "KM            15\n",
              "FuelType     100\n",
              "HP             6\n",
              "MetColor     150\n",
              "Automatic      0\n",
              "CC             0\n",
              "Doors          0\n",
              "Weight         0\n",
              "dtype: int64"
            ]
          },
          "metadata": {
            "tags": []
          },
          "execution_count": 6
        }
      ]
    },
    {
      "cell_type": "code",
      "metadata": {
        "id": "MbbH0MUocGat",
        "colab_type": "code",
        "colab": {
          "base_uri": "https://localhost:8080/",
          "height": 202
        },
        "outputId": "d1c762b3-e7c5-4ff1-b6ee-348c9cf8a0b2"
      },
      "source": [
        "data.isna().sum()"
      ],
      "execution_count": null,
      "outputs": [
        {
          "output_type": "execute_result",
          "data": {
            "text/plain": [
              "Price          0\n",
              "Age          100\n",
              "KM            15\n",
              "FuelType     100\n",
              "HP             6\n",
              "MetColor     150\n",
              "Automatic      0\n",
              "CC             0\n",
              "Doors          0\n",
              "Weight         0\n",
              "dtype: int64"
            ]
          },
          "metadata": {
            "tags": []
          },
          "execution_count": 7
        }
      ]
    },
    {
      "cell_type": "markdown",
      "metadata": {
        "id": "VSwbXKs4cOZ9",
        "colab_type": "text"
      },
      "source": [
        "* Subsetting the rows that have one or more missing values"
      ]
    },
    {
      "cell_type": "code",
      "metadata": {
        "id": "vqzJn-8Yc8CD",
        "colab_type": "code",
        "colab": {
          "base_uri": "https://localhost:8080/",
          "height": 218
        },
        "outputId": "2564258f-5040-4ee3-f449-5457d3c2fa2f"
      },
      "source": [
        "data.isnull().any(axis=1)\n",
        "# Return True if bool(x) is True for any x in the iterable.\n",
        "# If the iterable is empty, return False."
      ],
      "execution_count": null,
      "outputs": [
        {
          "output_type": "execute_result",
          "data": {
            "text/plain": [
              "0       False\n",
              "1       False\n",
              "2        True\n",
              "3       False\n",
              "4       False\n",
              "        ...  \n",
              "1431     True\n",
              "1432     True\n",
              "1433     True\n",
              "1434     True\n",
              "1435    False\n",
              "Length: 1436, dtype: bool"
            ]
          },
          "metadata": {
            "tags": []
          },
          "execution_count": 8
        }
      ]
    },
    {
      "cell_type": "code",
      "metadata": {
        "id": "JgkUQG88cJSo",
        "colab_type": "code",
        "colab": {}
      },
      "source": [
        "missing = data[data.isnull().any(axis=1)]"
      ],
      "execution_count": null,
      "outputs": []
    },
    {
      "cell_type": "code",
      "metadata": {
        "id": "dm3FynBVc2EL",
        "colab_type": "code",
        "colab": {
          "base_uri": "https://localhost:8080/",
          "height": 34
        },
        "outputId": "737739ef-d712-4a83-d848-b640dd4f408a"
      },
      "source": [
        "data.shape"
      ],
      "execution_count": null,
      "outputs": [
        {
          "output_type": "execute_result",
          "data": {
            "text/plain": [
              "(1436, 10)"
            ]
          },
          "metadata": {
            "tags": []
          },
          "execution_count": 10
        }
      ]
    },
    {
      "cell_type": "code",
      "metadata": {
        "id": "NjJ8QX2mctlC",
        "colab_type": "code",
        "colab": {
          "base_uri": "https://localhost:8080/",
          "height": 34
        },
        "outputId": "e3f08867-d66e-4fc8-aeb6-f7a1b34d0af1"
      },
      "source": [
        "missing.shape"
      ],
      "execution_count": null,
      "outputs": [
        {
          "output_type": "execute_result",
          "data": {
            "text/plain": [
              "(340, 10)"
            ]
          },
          "metadata": {
            "tags": []
          },
          "execution_count": 11
        }
      ]
    },
    {
      "cell_type": "markdown",
      "metadata": {
        "id": "1nWeI-Lieted",
        "colab_type": "text"
      },
      "source": [
        "### Approached to fill the missing values\n",
        "* Two ways of approach\n",
        "  * Fill the missing values by **mean / median** , in case of **numerical variable**\n",
        "  * Fill the missing values with the class which has **maximum count** , in case of **categorical variable**"
      ]
    },
    {
      "cell_type": "markdown",
      "metadata": {
        "id": "boVH3IrHfW5U",
        "colab_type": "text"
      },
      "source": [
        "### Imputing missing values\n",
        "* Look at the description to know whether numerical variables should be imputed with mean or median\n",
        "* DataFrame.describe()\n",
        "* Generate descriptive statistics that summarize the central tendency, dispersion and shape of a dataset’s distribution, excluding NaN values"
      ]
    },
    {
      "cell_type": "code",
      "metadata": {
        "id": "z5FdEu_AchOO",
        "colab_type": "code",
        "colab": {
          "base_uri": "https://localhost:8080/",
          "height": 284
        },
        "outputId": "2669169b-dda3-43ce-a1ab-135ff984d029"
      },
      "source": [
        "data.describe()"
      ],
      "execution_count": null,
      "outputs": [
        {
          "output_type": "execute_result",
          "data": {
            "text/html": [
              "<div>\n",
              "<style scoped>\n",
              "    .dataframe tbody tr th:only-of-type {\n",
              "        vertical-align: middle;\n",
              "    }\n",
              "\n",
              "    .dataframe tbody tr th {\n",
              "        vertical-align: top;\n",
              "    }\n",
              "\n",
              "    .dataframe thead th {\n",
              "        text-align: right;\n",
              "    }\n",
              "</style>\n",
              "<table border=\"1\" class=\"dataframe\">\n",
              "  <thead>\n",
              "    <tr style=\"text-align: right;\">\n",
              "      <th></th>\n",
              "      <th>Price</th>\n",
              "      <th>Age</th>\n",
              "      <th>KM</th>\n",
              "      <th>HP</th>\n",
              "      <th>MetColor</th>\n",
              "      <th>Automatic</th>\n",
              "      <th>CC</th>\n",
              "      <th>Weight</th>\n",
              "    </tr>\n",
              "  </thead>\n",
              "  <tbody>\n",
              "    <tr>\n",
              "      <th>count</th>\n",
              "      <td>1436.000000</td>\n",
              "      <td>1336.000000</td>\n",
              "      <td>1421.000000</td>\n",
              "      <td>1430.000000</td>\n",
              "      <td>1286.000000</td>\n",
              "      <td>1436.000000</td>\n",
              "      <td>1436.000000</td>\n",
              "      <td>1436.00000</td>\n",
              "    </tr>\n",
              "    <tr>\n",
              "      <th>mean</th>\n",
              "      <td>10730.824513</td>\n",
              "      <td>55.672156</td>\n",
              "      <td>68647.239972</td>\n",
              "      <td>101.478322</td>\n",
              "      <td>0.674961</td>\n",
              "      <td>0.055710</td>\n",
              "      <td>1566.827994</td>\n",
              "      <td>1072.45961</td>\n",
              "    </tr>\n",
              "    <tr>\n",
              "      <th>std</th>\n",
              "      <td>3626.964585</td>\n",
              "      <td>18.589804</td>\n",
              "      <td>37333.023589</td>\n",
              "      <td>14.768255</td>\n",
              "      <td>0.468572</td>\n",
              "      <td>0.229441</td>\n",
              "      <td>187.182436</td>\n",
              "      <td>52.64112</td>\n",
              "    </tr>\n",
              "    <tr>\n",
              "      <th>min</th>\n",
              "      <td>4350.000000</td>\n",
              "      <td>1.000000</td>\n",
              "      <td>1.000000</td>\n",
              "      <td>69.000000</td>\n",
              "      <td>0.000000</td>\n",
              "      <td>0.000000</td>\n",
              "      <td>1300.000000</td>\n",
              "      <td>1000.00000</td>\n",
              "    </tr>\n",
              "    <tr>\n",
              "      <th>25%</th>\n",
              "      <td>8450.000000</td>\n",
              "      <td>43.000000</td>\n",
              "      <td>43210.000000</td>\n",
              "      <td>90.000000</td>\n",
              "      <td>0.000000</td>\n",
              "      <td>0.000000</td>\n",
              "      <td>1400.000000</td>\n",
              "      <td>1040.00000</td>\n",
              "    </tr>\n",
              "    <tr>\n",
              "      <th>50%</th>\n",
              "      <td>9900.000000</td>\n",
              "      <td>60.000000</td>\n",
              "      <td>63634.000000</td>\n",
              "      <td>110.000000</td>\n",
              "      <td>1.000000</td>\n",
              "      <td>0.000000</td>\n",
              "      <td>1600.000000</td>\n",
              "      <td>1070.00000</td>\n",
              "    </tr>\n",
              "    <tr>\n",
              "      <th>75%</th>\n",
              "      <td>11950.000000</td>\n",
              "      <td>70.000000</td>\n",
              "      <td>87000.000000</td>\n",
              "      <td>110.000000</td>\n",
              "      <td>1.000000</td>\n",
              "      <td>0.000000</td>\n",
              "      <td>1600.000000</td>\n",
              "      <td>1085.00000</td>\n",
              "    </tr>\n",
              "    <tr>\n",
              "      <th>max</th>\n",
              "      <td>32500.000000</td>\n",
              "      <td>80.000000</td>\n",
              "      <td>243000.000000</td>\n",
              "      <td>192.000000</td>\n",
              "      <td>1.000000</td>\n",
              "      <td>1.000000</td>\n",
              "      <td>2000.000000</td>\n",
              "      <td>1615.00000</td>\n",
              "    </tr>\n",
              "  </tbody>\n",
              "</table>\n",
              "</div>"
            ],
            "text/plain": [
              "              Price          Age  ...           CC      Weight\n",
              "count   1436.000000  1336.000000  ...  1436.000000  1436.00000\n",
              "mean   10730.824513    55.672156  ...  1566.827994  1072.45961\n",
              "std     3626.964585    18.589804  ...   187.182436    52.64112\n",
              "min     4350.000000     1.000000  ...  1300.000000  1000.00000\n",
              "25%     8450.000000    43.000000  ...  1400.000000  1040.00000\n",
              "50%     9900.000000    60.000000  ...  1600.000000  1070.00000\n",
              "75%    11950.000000    70.000000  ...  1600.000000  1085.00000\n",
              "max    32500.000000    80.000000  ...  2000.000000  1615.00000\n",
              "\n",
              "[8 rows x 8 columns]"
            ]
          },
          "metadata": {
            "tags": []
          },
          "execution_count": 12
        }
      ]
    },
    {
      "cell_type": "markdown",
      "metadata": {
        "id": "EtqUthEbkSmc",
        "colab_type": "text"
      },
      "source": [
        "### Imputing missing values of **Age**\n",
        "* Calculating the mean value of the **Age** variable"
      ]
    },
    {
      "cell_type": "code",
      "metadata": {
        "id": "gNnKkoypf9vx",
        "colab_type": "code",
        "colab": {
          "base_uri": "https://localhost:8080/",
          "height": 34
        },
        "outputId": "ff6541f6-ca3c-4de3-b736-178e92b29810"
      },
      "source": [
        "data['Age'].mean()"
      ],
      "execution_count": null,
      "outputs": [
        {
          "output_type": "execute_result",
          "data": {
            "text/plain": [
              "55.67215568862275"
            ]
          },
          "metadata": {
            "tags": []
          },
          "execution_count": 13
        }
      ]
    },
    {
      "cell_type": "markdown",
      "metadata": {
        "id": "L1s_plshkiVm",
        "colab_type": "text"
      },
      "source": [
        "* To fill NA/ NaN values using the specified value\n",
        "* Syntax : DataFrame.fillna()"
      ]
    },
    {
      "cell_type": "code",
      "metadata": {
        "id": "5Gwy6o9Dkh3O",
        "colab_type": "code",
        "colab": {}
      },
      "source": [
        "data['Age'].fillna(data['Age'].mean(),inplace=True)"
      ],
      "execution_count": null,
      "outputs": []
    },
    {
      "cell_type": "markdown",
      "metadata": {
        "id": "sLE-STXKk54N",
        "colab_type": "text"
      },
      "source": [
        "### Imputing missing values of **KM**\n",
        "* Calculating the median value of the **KM** variable"
      ]
    },
    {
      "cell_type": "code",
      "metadata": {
        "id": "AvyVrA4OkcdD",
        "colab_type": "code",
        "colab": {
          "base_uri": "https://localhost:8080/",
          "height": 34
        },
        "outputId": "333f1ea1-7904-4ce1-a2c8-7676ddf0b856"
      },
      "source": [
        "data['KM'].median()"
      ],
      "execution_count": null,
      "outputs": [
        {
          "output_type": "execute_result",
          "data": {
            "text/plain": [
              "63634.0"
            ]
          },
          "metadata": {
            "tags": []
          },
          "execution_count": 15
        }
      ]
    },
    {
      "cell_type": "markdown",
      "metadata": {
        "id": "hraX9scTlW70",
        "colab_type": "text"
      },
      "source": [
        "* To fill NA/ NaN values using the specified value\n",
        "* Syntax : DataFrame.fillna()"
      ]
    },
    {
      "cell_type": "code",
      "metadata": {
        "id": "GUJSpoPElEMo",
        "colab_type": "code",
        "colab": {}
      },
      "source": [
        "data['KM'].fillna(data['KM'].median(),inplace=True)"
      ],
      "execution_count": null,
      "outputs": []
    },
    {
      "cell_type": "markdown",
      "metadata": {
        "id": "OO7GmwO3lagr",
        "colab_type": "text"
      },
      "source": [
        "### Imputing missing values of **HP**\n",
        "* Calculating the mean value of the **HP** variable"
      ]
    },
    {
      "cell_type": "code",
      "metadata": {
        "id": "s7rusdjblaLr",
        "colab_type": "code",
        "colab": {
          "base_uri": "https://localhost:8080/",
          "height": 34
        },
        "outputId": "c0c837de-131b-4afe-bea3-88c74b261ae3"
      },
      "source": [
        "data['HP'].mean()"
      ],
      "execution_count": null,
      "outputs": [
        {
          "output_type": "execute_result",
          "data": {
            "text/plain": [
              "101.47832167832168"
            ]
          },
          "metadata": {
            "tags": []
          },
          "execution_count": 17
        }
      ]
    },
    {
      "cell_type": "markdown",
      "metadata": {
        "id": "VciGY0aPlpnS",
        "colab_type": "text"
      },
      "source": [
        "* To fill NA/ NaN values using the specified value\n",
        "* Syntax : DataFrame.fillna()"
      ]
    },
    {
      "cell_type": "code",
      "metadata": {
        "id": "wrulLxD2lMuT",
        "colab_type": "code",
        "colab": {}
      },
      "source": [
        "data['HP'].fillna(data['HP'].mean(),inplace=True)"
      ],
      "execution_count": null,
      "outputs": []
    },
    {
      "cell_type": "markdown",
      "metadata": {
        "id": "wsQ6VIrSlw1C",
        "colab_type": "text"
      },
      "source": [
        "* Check for missing data after filling values"
      ]
    },
    {
      "cell_type": "code",
      "metadata": {
        "id": "3qoqFpCDlv1M",
        "colab_type": "code",
        "colab": {
          "base_uri": "https://localhost:8080/",
          "height": 202
        },
        "outputId": "77f8d124-24a4-4727-a653-8a401a3b07aa"
      },
      "source": [
        "data.isna().sum()"
      ],
      "execution_count": null,
      "outputs": [
        {
          "output_type": "execute_result",
          "data": {
            "text/plain": [
              "Price          0\n",
              "Age            0\n",
              "KM             0\n",
              "FuelType     100\n",
              "HP             0\n",
              "MetColor     150\n",
              "Automatic      0\n",
              "CC             0\n",
              "Doors          0\n",
              "Weight         0\n",
              "dtype: int64"
            ]
          },
          "metadata": {
            "tags": []
          },
          "execution_count": 19
        }
      ]
    },
    {
      "cell_type": "markdown",
      "metadata": {
        "id": "fPAAUCRnl_mi",
        "colab_type": "text"
      },
      "source": [
        "### Imputing missing values of **FuelType**\n",
        "* Syntax: Series.value_counts()\n",
        "  * Returns a Series containing counts of unique values\n",
        "  * The values will be in descending order so that the first element is the most frequently occurring element\n",
        "  * Excludes NA values by default"
      ]
    },
    {
      "cell_type": "code",
      "metadata": {
        "id": "EZLH7PGOl6Lw",
        "colab_type": "code",
        "colab": {
          "base_uri": "https://localhost:8080/",
          "height": 84
        },
        "outputId": "4246cce5-d1e9-4b71-eeb7-cda52b5aab88"
      },
      "source": [
        "data['FuelType'].value_counts()"
      ],
      "execution_count": null,
      "outputs": [
        {
          "output_type": "execute_result",
          "data": {
            "text/plain": [
              "Petrol    1177\n",
              "Diesel     144\n",
              "CNG         15\n",
              "Name: FuelType, dtype: int64"
            ]
          },
          "metadata": {
            "tags": []
          },
          "execution_count": 20
        }
      ]
    },
    {
      "cell_type": "markdown",
      "metadata": {
        "id": "o9qJyGm2mq8h",
        "colab_type": "text"
      },
      "source": [
        "* To get the mode value of **FuelType**"
      ]
    },
    {
      "cell_type": "code",
      "metadata": {
        "id": "pPki25bAmkNG",
        "colab_type": "code",
        "colab": {
          "base_uri": "https://localhost:8080/",
          "height": 34
        },
        "outputId": "cd1fd3c1-257d-466b-ef47-d6276d953c6a"
      },
      "source": [
        "data['FuelType'].value_counts().index[0]"
      ],
      "execution_count": null,
      "outputs": [
        {
          "output_type": "execute_result",
          "data": {
            "text/plain": [
              "'Petrol'"
            ]
          },
          "metadata": {
            "tags": []
          },
          "execution_count": 21
        }
      ]
    },
    {
      "cell_type": "markdown",
      "metadata": {
        "id": "ShXfrmD1m43y",
        "colab_type": "text"
      },
      "source": [
        "* To fill NA/ NaN values using the specified value"
      ]
    },
    {
      "cell_type": "code",
      "metadata": {
        "id": "8C4jF2XFmyrR",
        "colab_type": "code",
        "colab": {}
      },
      "source": [
        "data['FuelType'].fillna(data['FuelType'].value_counts().index[0],inplace=True)"
      ],
      "execution_count": null,
      "outputs": []
    },
    {
      "cell_type": "markdown",
      "metadata": {
        "id": "BimanaBjnNze",
        "colab_type": "text"
      },
      "source": [
        "### Imputing missing values of **MetColor**\n",
        "* To get the mode value of **MetColor**"
      ]
    },
    {
      "cell_type": "code",
      "metadata": {
        "id": "aGzoNsI8nJOO",
        "colab_type": "code",
        "colab": {
          "base_uri": "https://localhost:8080/",
          "height": 50
        },
        "outputId": "85eaa564-1265-47c5-c274-d993f36f7a43"
      },
      "source": [
        "data['MetColor'].mode()"
      ],
      "execution_count": null,
      "outputs": [
        {
          "output_type": "execute_result",
          "data": {
            "text/plain": [
              "0    1.0\n",
              "dtype: float64"
            ]
          },
          "metadata": {
            "tags": []
          },
          "execution_count": 23
        }
      ]
    },
    {
      "cell_type": "markdown",
      "metadata": {
        "id": "G_BH9seWnd01",
        "colab_type": "text"
      },
      "source": [
        "* To fill NA/ NaN values using the specified value"
      ]
    },
    {
      "cell_type": "code",
      "metadata": {
        "id": "sHTWePsanVhi",
        "colab_type": "code",
        "colab": {}
      },
      "source": [
        "data['MetColor'].fillna(data['MetColor'].mode()[0],inplace=True)"
      ],
      "execution_count": null,
      "outputs": []
    },
    {
      "cell_type": "markdown",
      "metadata": {
        "id": "FfftDbPln0Y8",
        "colab_type": "text"
      },
      "source": [
        "### Checking for missing values\n",
        "* Check for missing data after filling values"
      ]
    },
    {
      "cell_type": "code",
      "metadata": {
        "id": "gYgFAVQbnqcR",
        "colab_type": "code",
        "colab": {
          "base_uri": "https://localhost:8080/",
          "height": 202
        },
        "outputId": "3a6c5453-5522-415c-ee94-5b5b811a471e"
      },
      "source": [
        "data.isnull().sum()"
      ],
      "execution_count": null,
      "outputs": [
        {
          "output_type": "execute_result",
          "data": {
            "text/plain": [
              "Price        0\n",
              "Age          0\n",
              "KM           0\n",
              "FuelType     0\n",
              "HP           0\n",
              "MetColor     0\n",
              "Automatic    0\n",
              "CC           0\n",
              "Doors        0\n",
              "Weight       0\n",
              "dtype: int64"
            ]
          },
          "metadata": {
            "tags": []
          },
          "execution_count": 25
        }
      ]
    },
    {
      "cell_type": "markdown",
      "metadata": {
        "id": "V0mDakk7oIud",
        "colab_type": "text"
      },
      "source": [
        "### Summary\n",
        "* Identifying missing values\n",
        "* Approaches to fill the missing values"
      ]
    }
  ]
}