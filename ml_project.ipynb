{
  "nbformat": 4,
  "nbformat_minor": 0,
  "metadata": {
    "kernelspec": {
      "display_name": "Python 3",
      "language": "python",
      "name": "python3"
    },
    "language_info": {
      "codemirror_mode": {
        "name": "ipython",
        "version": 3
      },
      "file_extension": ".py",
      "mimetype": "text/x-python",
      "name": "python",
      "nbconvert_exporter": "python",
      "pygments_lexer": "ipython3",
      "version": "3.7.6"
    },
    "colab": {
      "name": "ml project.ipynb",
      "provenance": [],
      "include_colab_link": true
    }
  },
  "cells": [
    {
      "cell_type": "markdown",
      "metadata": {
        "id": "view-in-github",
        "colab_type": "text"
      },
      "source": [
        "<a href=\"https://colab.research.google.com/github/19pa1a0586/AI/blob/master/ml_project.ipynb\" target=\"_parent\"><img src=\"https://colab.research.google.com/assets/colab-badge.svg\" alt=\"Open In Colab\"/></a>"
      ]
    },
    {
      "cell_type": "code",
      "metadata": {
        "id": "yPQQxWA2N7M5",
        "colab_type": "code",
        "colab": {}
      },
      "source": [
        "import numpy as np\n",
        "import pandas as pd\n",
        "\n",
        "import matplotlib as mpl\n",
        "import matplotlib.pyplot as plt\n",
        "\n",
        "from sklearn.datasets import load_boston\n",
        "from sklearn.metrics import mean_squared_error\n",
        "from sklearn.model_selection import train_test_split\n",
        "from sklearn.preprocessing import MinMaxScaler"
      ],
      "execution_count": 0,
      "outputs": []
    },
    {
      "cell_type": "markdown",
      "metadata": {
        "id": "r9LAXYRuN7M-",
        "colab_type": "text"
      },
      "source": [
        "**STEP:1**\n",
        "    \n",
        "    Data Preprocessing"
      ]
    },
    {
      "cell_type": "code",
      "metadata": {
        "id": "0xwYVihkN7M-",
        "colab_type": "code",
        "colab": {},
        "outputId": "73cd90b8-5a5a-4f91-e5c4-14a0a1089eaf"
      },
      "source": [
        "#load the dataset\n",
        "boston=load_boston()\n",
        "#Description of the dataset\n",
        "print(boston.DESCR)"
      ],
      "execution_count": 0,
      "outputs": [
        {
          "output_type": "stream",
          "text": [
            ".. _boston_dataset:\n",
            "\n",
            "Boston house prices dataset\n",
            "---------------------------\n",
            "\n",
            "**Data Set Characteristics:**  \n",
            "\n",
            "    :Number of Instances: 506 \n",
            "\n",
            "    :Number of Attributes: 13 numeric/categorical predictive. Median Value (attribute 14) is usually the target.\n",
            "\n",
            "    :Attribute Information (in order):\n",
            "        - CRIM     per capita crime rate by town\n",
            "        - ZN       proportion of residential land zoned for lots over 25,000 sq.ft.\n",
            "        - INDUS    proportion of non-retail business acres per town\n",
            "        - CHAS     Charles River dummy variable (= 1 if tract bounds river; 0 otherwise)\n",
            "        - NOX      nitric oxides concentration (parts per 10 million)\n",
            "        - RM       average number of rooms per dwelling\n",
            "        - AGE      proportion of owner-occupied units built prior to 1940\n",
            "        - DIS      weighted distances to five Boston employment centres\n",
            "        - RAD      index of accessibility to radial highways\n",
            "        - TAX      full-value property-tax rate per $10,000\n",
            "        - PTRATIO  pupil-teacher ratio by town\n",
            "        - B        1000(Bk - 0.63)^2 where Bk is the proportion of blacks by town\n",
            "        - LSTAT    % lower status of the population\n",
            "        - MEDV     Median value of owner-occupied homes in $1000's\n",
            "\n",
            "    :Missing Attribute Values: None\n",
            "\n",
            "    :Creator: Harrison, D. and Rubinfeld, D.L.\n",
            "\n",
            "This is a copy of UCI ML housing dataset.\n",
            "https://archive.ics.uci.edu/ml/machine-learning-databases/housing/\n",
            "\n",
            "\n",
            "This dataset was taken from the StatLib library which is maintained at Carnegie Mellon University.\n",
            "\n",
            "The Boston house-price data of Harrison, D. and Rubinfeld, D.L. 'Hedonic\n",
            "prices and the demand for clean air', J. Environ. Economics & Management,\n",
            "vol.5, 81-102, 1978.   Used in Belsley, Kuh & Welsch, 'Regression diagnostics\n",
            "...', Wiley, 1980.   N.B. Various transformations are used in the table on\n",
            "pages 244-261 of the latter.\n",
            "\n",
            "The Boston house-price data has been used in many machine learning papers that address regression\n",
            "problems.   \n",
            "     \n",
            ".. topic:: References\n",
            "\n",
            "   - Belsley, Kuh & Welsch, 'Regression diagnostics: Identifying Influential Data and Sources of Collinearity', Wiley, 1980. 244-261.\n",
            "   - Quinlan,R. (1993). Combining Instance-Based and Model-Based Learning. In Proceedings on the Tenth International Conference of Machine Learning, 236-243, University of Massachusetts, Amherst. Morgan Kaufmann.\n",
            "\n"
          ],
          "name": "stdout"
        }
      ]
    },
    {
      "cell_type": "code",
      "metadata": {
        "id": "NMW5dngsN7NC",
        "colab_type": "code",
        "colab": {},
        "outputId": "89da3e1b-3f1b-4a9b-e9f7-f1a77f11f812"
      },
      "source": [
        "#Keep the imported data into pandas data frames\n",
        "features=pd.DataFrame(boston.data,columns=boston.feature_names)\n",
        "features"
      ],
      "execution_count": 0,
      "outputs": [
        {
          "output_type": "execute_result",
          "data": {
            "text/html": [
              "<div>\n",
              "<style scoped>\n",
              "    .dataframe tbody tr th:only-of-type {\n",
              "        vertical-align: middle;\n",
              "    }\n",
              "\n",
              "    .dataframe tbody tr th {\n",
              "        vertical-align: top;\n",
              "    }\n",
              "\n",
              "    .dataframe thead th {\n",
              "        text-align: right;\n",
              "    }\n",
              "</style>\n",
              "<table border=\"1\" class=\"dataframe\">\n",
              "  <thead>\n",
              "    <tr style=\"text-align: right;\">\n",
              "      <th></th>\n",
              "      <th>CRIM</th>\n",
              "      <th>ZN</th>\n",
              "      <th>INDUS</th>\n",
              "      <th>CHAS</th>\n",
              "      <th>NOX</th>\n",
              "      <th>RM</th>\n",
              "      <th>AGE</th>\n",
              "      <th>DIS</th>\n",
              "      <th>RAD</th>\n",
              "      <th>TAX</th>\n",
              "      <th>PTRATIO</th>\n",
              "      <th>B</th>\n",
              "      <th>LSTAT</th>\n",
              "    </tr>\n",
              "  </thead>\n",
              "  <tbody>\n",
              "    <tr>\n",
              "      <th>0</th>\n",
              "      <td>0.00632</td>\n",
              "      <td>18.0</td>\n",
              "      <td>2.31</td>\n",
              "      <td>0.0</td>\n",
              "      <td>0.538</td>\n",
              "      <td>6.575</td>\n",
              "      <td>65.2</td>\n",
              "      <td>4.0900</td>\n",
              "      <td>1.0</td>\n",
              "      <td>296.0</td>\n",
              "      <td>15.3</td>\n",
              "      <td>396.90</td>\n",
              "      <td>4.98</td>\n",
              "    </tr>\n",
              "    <tr>\n",
              "      <th>1</th>\n",
              "      <td>0.02731</td>\n",
              "      <td>0.0</td>\n",
              "      <td>7.07</td>\n",
              "      <td>0.0</td>\n",
              "      <td>0.469</td>\n",
              "      <td>6.421</td>\n",
              "      <td>78.9</td>\n",
              "      <td>4.9671</td>\n",
              "      <td>2.0</td>\n",
              "      <td>242.0</td>\n",
              "      <td>17.8</td>\n",
              "      <td>396.90</td>\n",
              "      <td>9.14</td>\n",
              "    </tr>\n",
              "    <tr>\n",
              "      <th>2</th>\n",
              "      <td>0.02729</td>\n",
              "      <td>0.0</td>\n",
              "      <td>7.07</td>\n",
              "      <td>0.0</td>\n",
              "      <td>0.469</td>\n",
              "      <td>7.185</td>\n",
              "      <td>61.1</td>\n",
              "      <td>4.9671</td>\n",
              "      <td>2.0</td>\n",
              "      <td>242.0</td>\n",
              "      <td>17.8</td>\n",
              "      <td>392.83</td>\n",
              "      <td>4.03</td>\n",
              "    </tr>\n",
              "    <tr>\n",
              "      <th>3</th>\n",
              "      <td>0.03237</td>\n",
              "      <td>0.0</td>\n",
              "      <td>2.18</td>\n",
              "      <td>0.0</td>\n",
              "      <td>0.458</td>\n",
              "      <td>6.998</td>\n",
              "      <td>45.8</td>\n",
              "      <td>6.0622</td>\n",
              "      <td>3.0</td>\n",
              "      <td>222.0</td>\n",
              "      <td>18.7</td>\n",
              "      <td>394.63</td>\n",
              "      <td>2.94</td>\n",
              "    </tr>\n",
              "    <tr>\n",
              "      <th>4</th>\n",
              "      <td>0.06905</td>\n",
              "      <td>0.0</td>\n",
              "      <td>2.18</td>\n",
              "      <td>0.0</td>\n",
              "      <td>0.458</td>\n",
              "      <td>7.147</td>\n",
              "      <td>54.2</td>\n",
              "      <td>6.0622</td>\n",
              "      <td>3.0</td>\n",
              "      <td>222.0</td>\n",
              "      <td>18.7</td>\n",
              "      <td>396.90</td>\n",
              "      <td>5.33</td>\n",
              "    </tr>\n",
              "    <tr>\n",
              "      <th>...</th>\n",
              "      <td>...</td>\n",
              "      <td>...</td>\n",
              "      <td>...</td>\n",
              "      <td>...</td>\n",
              "      <td>...</td>\n",
              "      <td>...</td>\n",
              "      <td>...</td>\n",
              "      <td>...</td>\n",
              "      <td>...</td>\n",
              "      <td>...</td>\n",
              "      <td>...</td>\n",
              "      <td>...</td>\n",
              "      <td>...</td>\n",
              "    </tr>\n",
              "    <tr>\n",
              "      <th>501</th>\n",
              "      <td>0.06263</td>\n",
              "      <td>0.0</td>\n",
              "      <td>11.93</td>\n",
              "      <td>0.0</td>\n",
              "      <td>0.573</td>\n",
              "      <td>6.593</td>\n",
              "      <td>69.1</td>\n",
              "      <td>2.4786</td>\n",
              "      <td>1.0</td>\n",
              "      <td>273.0</td>\n",
              "      <td>21.0</td>\n",
              "      <td>391.99</td>\n",
              "      <td>9.67</td>\n",
              "    </tr>\n",
              "    <tr>\n",
              "      <th>502</th>\n",
              "      <td>0.04527</td>\n",
              "      <td>0.0</td>\n",
              "      <td>11.93</td>\n",
              "      <td>0.0</td>\n",
              "      <td>0.573</td>\n",
              "      <td>6.120</td>\n",
              "      <td>76.7</td>\n",
              "      <td>2.2875</td>\n",
              "      <td>1.0</td>\n",
              "      <td>273.0</td>\n",
              "      <td>21.0</td>\n",
              "      <td>396.90</td>\n",
              "      <td>9.08</td>\n",
              "    </tr>\n",
              "    <tr>\n",
              "      <th>503</th>\n",
              "      <td>0.06076</td>\n",
              "      <td>0.0</td>\n",
              "      <td>11.93</td>\n",
              "      <td>0.0</td>\n",
              "      <td>0.573</td>\n",
              "      <td>6.976</td>\n",
              "      <td>91.0</td>\n",
              "      <td>2.1675</td>\n",
              "      <td>1.0</td>\n",
              "      <td>273.0</td>\n",
              "      <td>21.0</td>\n",
              "      <td>396.90</td>\n",
              "      <td>5.64</td>\n",
              "    </tr>\n",
              "    <tr>\n",
              "      <th>504</th>\n",
              "      <td>0.10959</td>\n",
              "      <td>0.0</td>\n",
              "      <td>11.93</td>\n",
              "      <td>0.0</td>\n",
              "      <td>0.573</td>\n",
              "      <td>6.794</td>\n",
              "      <td>89.3</td>\n",
              "      <td>2.3889</td>\n",
              "      <td>1.0</td>\n",
              "      <td>273.0</td>\n",
              "      <td>21.0</td>\n",
              "      <td>393.45</td>\n",
              "      <td>6.48</td>\n",
              "    </tr>\n",
              "    <tr>\n",
              "      <th>505</th>\n",
              "      <td>0.04741</td>\n",
              "      <td>0.0</td>\n",
              "      <td>11.93</td>\n",
              "      <td>0.0</td>\n",
              "      <td>0.573</td>\n",
              "      <td>6.030</td>\n",
              "      <td>80.8</td>\n",
              "      <td>2.5050</td>\n",
              "      <td>1.0</td>\n",
              "      <td>273.0</td>\n",
              "      <td>21.0</td>\n",
              "      <td>396.90</td>\n",
              "      <td>7.88</td>\n",
              "    </tr>\n",
              "  </tbody>\n",
              "</table>\n",
              "<p>506 rows × 13 columns</p>\n",
              "</div>"
            ],
            "text/plain": [
              "        CRIM    ZN  INDUS  CHAS    NOX     RM   AGE     DIS  RAD    TAX  \\\n",
              "0    0.00632  18.0   2.31   0.0  0.538  6.575  65.2  4.0900  1.0  296.0   \n",
              "1    0.02731   0.0   7.07   0.0  0.469  6.421  78.9  4.9671  2.0  242.0   \n",
              "2    0.02729   0.0   7.07   0.0  0.469  7.185  61.1  4.9671  2.0  242.0   \n",
              "3    0.03237   0.0   2.18   0.0  0.458  6.998  45.8  6.0622  3.0  222.0   \n",
              "4    0.06905   0.0   2.18   0.0  0.458  7.147  54.2  6.0622  3.0  222.0   \n",
              "..       ...   ...    ...   ...    ...    ...   ...     ...  ...    ...   \n",
              "501  0.06263   0.0  11.93   0.0  0.573  6.593  69.1  2.4786  1.0  273.0   \n",
              "502  0.04527   0.0  11.93   0.0  0.573  6.120  76.7  2.2875  1.0  273.0   \n",
              "503  0.06076   0.0  11.93   0.0  0.573  6.976  91.0  2.1675  1.0  273.0   \n",
              "504  0.10959   0.0  11.93   0.0  0.573  6.794  89.3  2.3889  1.0  273.0   \n",
              "505  0.04741   0.0  11.93   0.0  0.573  6.030  80.8  2.5050  1.0  273.0   \n",
              "\n",
              "     PTRATIO       B  LSTAT  \n",
              "0       15.3  396.90   4.98  \n",
              "1       17.8  396.90   9.14  \n",
              "2       17.8  392.83   4.03  \n",
              "3       18.7  394.63   2.94  \n",
              "4       18.7  396.90   5.33  \n",
              "..       ...     ...    ...  \n",
              "501     21.0  391.99   9.67  \n",
              "502     21.0  396.90   9.08  \n",
              "503     21.0  396.90   5.64  \n",
              "504     21.0  393.45   6.48  \n",
              "505     21.0  396.90   7.88  \n",
              "\n",
              "[506 rows x 13 columns]"
            ]
          },
          "metadata": {
            "tags": []
          },
          "execution_count": 125
        }
      ]
    },
    {
      "cell_type": "code",
      "metadata": {
        "id": "dskwHTCAN7NF",
        "colab_type": "code",
        "colab": {},
        "outputId": "1303447a-10e1-471e-80f1-baf5683281f2"
      },
      "source": [
        "#check whether the dataset consists of any null(or)missing values\n",
        "features.isna().sum()"
      ],
      "execution_count": 0,
      "outputs": [
        {
          "output_type": "execute_result",
          "data": {
            "text/plain": [
              "CRIM       0\n",
              "ZN         0\n",
              "INDUS      0\n",
              "CHAS       0\n",
              "NOX        0\n",
              "RM         0\n",
              "AGE        0\n",
              "DIS        0\n",
              "RAD        0\n",
              "TAX        0\n",
              "PTRATIO    0\n",
              "B          0\n",
              "LSTAT      0\n",
              "dtype: int64"
            ]
          },
          "metadata": {
            "tags": []
          },
          "execution_count": 126
        }
      ]
    },
    {
      "cell_type": "code",
      "metadata": {
        "id": "VDsp09OUN7NI",
        "colab_type": "code",
        "colab": {},
        "outputId": "86ba75e0-6d1a-4ce8-e65d-dc93ceac5023"
      },
      "source": [
        "#To display any one column from the dataset\n",
        "# dataframe[\"column_name\"]\n",
        "features[\"RM\"]"
      ],
      "execution_count": 0,
      "outputs": [
        {
          "output_type": "execute_result",
          "data": {
            "text/plain": [
              "0      6.575\n",
              "1      6.421\n",
              "2      7.185\n",
              "3      6.998\n",
              "4      7.147\n",
              "       ...  \n",
              "501    6.593\n",
              "502    6.120\n",
              "503    6.976\n",
              "504    6.794\n",
              "505    6.030\n",
              "Name: RM, Length: 506, dtype: float64"
            ]
          },
          "metadata": {
            "tags": []
          },
          "execution_count": 127
        }
      ]
    },
    {
      "cell_type": "code",
      "metadata": {
        "id": "k3YJqj7zN7NL",
        "colab_type": "code",
        "colab": {},
        "outputId": "8aecdf89-0082-443c-80a8-9b63b310c802"
      },
      "source": [
        "#We need to store the target into other dataframe called \"target\"\n",
        "target=pd.DataFrame(boston.target,columns=[\"target\"])\n",
        "target"
      ],
      "execution_count": 0,
      "outputs": [
        {
          "output_type": "execute_result",
          "data": {
            "text/html": [
              "<div>\n",
              "<style scoped>\n",
              "    .dataframe tbody tr th:only-of-type {\n",
              "        vertical-align: middle;\n",
              "    }\n",
              "\n",
              "    .dataframe tbody tr th {\n",
              "        vertical-align: top;\n",
              "    }\n",
              "\n",
              "    .dataframe thead th {\n",
              "        text-align: right;\n",
              "    }\n",
              "</style>\n",
              "<table border=\"1\" class=\"dataframe\">\n",
              "  <thead>\n",
              "    <tr style=\"text-align: right;\">\n",
              "      <th></th>\n",
              "      <th>target</th>\n",
              "    </tr>\n",
              "  </thead>\n",
              "  <tbody>\n",
              "    <tr>\n",
              "      <th>0</th>\n",
              "      <td>24.0</td>\n",
              "    </tr>\n",
              "    <tr>\n",
              "      <th>1</th>\n",
              "      <td>21.6</td>\n",
              "    </tr>\n",
              "    <tr>\n",
              "      <th>2</th>\n",
              "      <td>34.7</td>\n",
              "    </tr>\n",
              "    <tr>\n",
              "      <th>3</th>\n",
              "      <td>33.4</td>\n",
              "    </tr>\n",
              "    <tr>\n",
              "      <th>4</th>\n",
              "      <td>36.2</td>\n",
              "    </tr>\n",
              "    <tr>\n",
              "      <th>...</th>\n",
              "      <td>...</td>\n",
              "    </tr>\n",
              "    <tr>\n",
              "      <th>501</th>\n",
              "      <td>22.4</td>\n",
              "    </tr>\n",
              "    <tr>\n",
              "      <th>502</th>\n",
              "      <td>20.6</td>\n",
              "    </tr>\n",
              "    <tr>\n",
              "      <th>503</th>\n",
              "      <td>23.9</td>\n",
              "    </tr>\n",
              "    <tr>\n",
              "      <th>504</th>\n",
              "      <td>22.0</td>\n",
              "    </tr>\n",
              "    <tr>\n",
              "      <th>505</th>\n",
              "      <td>11.9</td>\n",
              "    </tr>\n",
              "  </tbody>\n",
              "</table>\n",
              "<p>506 rows × 1 columns</p>\n",
              "</div>"
            ],
            "text/plain": [
              "     target\n",
              "0      24.0\n",
              "1      21.6\n",
              "2      34.7\n",
              "3      33.4\n",
              "4      36.2\n",
              "..      ...\n",
              "501    22.4\n",
              "502    20.6\n",
              "503    23.9\n",
              "504    22.0\n",
              "505    11.9\n",
              "\n",
              "[506 rows x 1 columns]"
            ]
          },
          "metadata": {
            "tags": []
          },
          "execution_count": 128
        }
      ]
    },
    {
      "cell_type": "code",
      "metadata": {
        "id": "6LnZ1ZwdN7NO",
        "colab_type": "code",
        "colab": {},
        "outputId": "90e2c48d-335d-454b-c8f3-b5de609e2e06"
      },
      "source": [
        "#To find the minimum and maximum prices of the houses in this data\n",
        "\n",
        "# max(dataframe_object[\"column_name\"])\n",
        "print(\"max =\",max(target[\"target\"]))\n",
        "\n",
        "# min(dataframe_object[\"column_name\"])\n",
        "print(\"min =\",min(target[\"target\"]))"
      ],
      "execution_count": 0,
      "outputs": [
        {
          "output_type": "stream",
          "text": [
            "max = 50.0\n",
            "min = 5.0\n"
          ],
          "name": "stdout"
        }
      ]
    },
    {
      "cell_type": "code",
      "metadata": {
        "id": "dlILBro8N7NR",
        "colab_type": "code",
        "colab": {},
        "outputId": "ebee705f-d484-4542-daec-0cb9a8a05dd2"
      },
      "source": [
        "# Concatenate features and targets into a single data frame\n",
        "# axis=1 makes it concatenate in column wise and by default the axis=0 which means row wise\n",
        "# pd.concat(objects,axis)\n",
        "df=pd.concat([features,target],axis=1)\n",
        "df"
      ],
      "execution_count": 0,
      "outputs": [
        {
          "output_type": "execute_result",
          "data": {
            "text/html": [
              "<div>\n",
              "<style scoped>\n",
              "    .dataframe tbody tr th:only-of-type {\n",
              "        vertical-align: middle;\n",
              "    }\n",
              "\n",
              "    .dataframe tbody tr th {\n",
              "        vertical-align: top;\n",
              "    }\n",
              "\n",
              "    .dataframe thead th {\n",
              "        text-align: right;\n",
              "    }\n",
              "</style>\n",
              "<table border=\"1\" class=\"dataframe\">\n",
              "  <thead>\n",
              "    <tr style=\"text-align: right;\">\n",
              "      <th></th>\n",
              "      <th>CRIM</th>\n",
              "      <th>ZN</th>\n",
              "      <th>INDUS</th>\n",
              "      <th>CHAS</th>\n",
              "      <th>NOX</th>\n",
              "      <th>RM</th>\n",
              "      <th>AGE</th>\n",
              "      <th>DIS</th>\n",
              "      <th>RAD</th>\n",
              "      <th>TAX</th>\n",
              "      <th>PTRATIO</th>\n",
              "      <th>B</th>\n",
              "      <th>LSTAT</th>\n",
              "      <th>target</th>\n",
              "    </tr>\n",
              "  </thead>\n",
              "  <tbody>\n",
              "    <tr>\n",
              "      <th>0</th>\n",
              "      <td>0.00632</td>\n",
              "      <td>18.0</td>\n",
              "      <td>2.31</td>\n",
              "      <td>0.0</td>\n",
              "      <td>0.538</td>\n",
              "      <td>6.575</td>\n",
              "      <td>65.2</td>\n",
              "      <td>4.0900</td>\n",
              "      <td>1.0</td>\n",
              "      <td>296.0</td>\n",
              "      <td>15.3</td>\n",
              "      <td>396.90</td>\n",
              "      <td>4.98</td>\n",
              "      <td>24.0</td>\n",
              "    </tr>\n",
              "    <tr>\n",
              "      <th>1</th>\n",
              "      <td>0.02731</td>\n",
              "      <td>0.0</td>\n",
              "      <td>7.07</td>\n",
              "      <td>0.0</td>\n",
              "      <td>0.469</td>\n",
              "      <td>6.421</td>\n",
              "      <td>78.9</td>\n",
              "      <td>4.9671</td>\n",
              "      <td>2.0</td>\n",
              "      <td>242.0</td>\n",
              "      <td>17.8</td>\n",
              "      <td>396.90</td>\n",
              "      <td>9.14</td>\n",
              "      <td>21.6</td>\n",
              "    </tr>\n",
              "    <tr>\n",
              "      <th>2</th>\n",
              "      <td>0.02729</td>\n",
              "      <td>0.0</td>\n",
              "      <td>7.07</td>\n",
              "      <td>0.0</td>\n",
              "      <td>0.469</td>\n",
              "      <td>7.185</td>\n",
              "      <td>61.1</td>\n",
              "      <td>4.9671</td>\n",
              "      <td>2.0</td>\n",
              "      <td>242.0</td>\n",
              "      <td>17.8</td>\n",
              "      <td>392.83</td>\n",
              "      <td>4.03</td>\n",
              "      <td>34.7</td>\n",
              "    </tr>\n",
              "    <tr>\n",
              "      <th>3</th>\n",
              "      <td>0.03237</td>\n",
              "      <td>0.0</td>\n",
              "      <td>2.18</td>\n",
              "      <td>0.0</td>\n",
              "      <td>0.458</td>\n",
              "      <td>6.998</td>\n",
              "      <td>45.8</td>\n",
              "      <td>6.0622</td>\n",
              "      <td>3.0</td>\n",
              "      <td>222.0</td>\n",
              "      <td>18.7</td>\n",
              "      <td>394.63</td>\n",
              "      <td>2.94</td>\n",
              "      <td>33.4</td>\n",
              "    </tr>\n",
              "    <tr>\n",
              "      <th>4</th>\n",
              "      <td>0.06905</td>\n",
              "      <td>0.0</td>\n",
              "      <td>2.18</td>\n",
              "      <td>0.0</td>\n",
              "      <td>0.458</td>\n",
              "      <td>7.147</td>\n",
              "      <td>54.2</td>\n",
              "      <td>6.0622</td>\n",
              "      <td>3.0</td>\n",
              "      <td>222.0</td>\n",
              "      <td>18.7</td>\n",
              "      <td>396.90</td>\n",
              "      <td>5.33</td>\n",
              "      <td>36.2</td>\n",
              "    </tr>\n",
              "    <tr>\n",
              "      <th>...</th>\n",
              "      <td>...</td>\n",
              "      <td>...</td>\n",
              "      <td>...</td>\n",
              "      <td>...</td>\n",
              "      <td>...</td>\n",
              "      <td>...</td>\n",
              "      <td>...</td>\n",
              "      <td>...</td>\n",
              "      <td>...</td>\n",
              "      <td>...</td>\n",
              "      <td>...</td>\n",
              "      <td>...</td>\n",
              "      <td>...</td>\n",
              "      <td>...</td>\n",
              "    </tr>\n",
              "    <tr>\n",
              "      <th>501</th>\n",
              "      <td>0.06263</td>\n",
              "      <td>0.0</td>\n",
              "      <td>11.93</td>\n",
              "      <td>0.0</td>\n",
              "      <td>0.573</td>\n",
              "      <td>6.593</td>\n",
              "      <td>69.1</td>\n",
              "      <td>2.4786</td>\n",
              "      <td>1.0</td>\n",
              "      <td>273.0</td>\n",
              "      <td>21.0</td>\n",
              "      <td>391.99</td>\n",
              "      <td>9.67</td>\n",
              "      <td>22.4</td>\n",
              "    </tr>\n",
              "    <tr>\n",
              "      <th>502</th>\n",
              "      <td>0.04527</td>\n",
              "      <td>0.0</td>\n",
              "      <td>11.93</td>\n",
              "      <td>0.0</td>\n",
              "      <td>0.573</td>\n",
              "      <td>6.120</td>\n",
              "      <td>76.7</td>\n",
              "      <td>2.2875</td>\n",
              "      <td>1.0</td>\n",
              "      <td>273.0</td>\n",
              "      <td>21.0</td>\n",
              "      <td>396.90</td>\n",
              "      <td>9.08</td>\n",
              "      <td>20.6</td>\n",
              "    </tr>\n",
              "    <tr>\n",
              "      <th>503</th>\n",
              "      <td>0.06076</td>\n",
              "      <td>0.0</td>\n",
              "      <td>11.93</td>\n",
              "      <td>0.0</td>\n",
              "      <td>0.573</td>\n",
              "      <td>6.976</td>\n",
              "      <td>91.0</td>\n",
              "      <td>2.1675</td>\n",
              "      <td>1.0</td>\n",
              "      <td>273.0</td>\n",
              "      <td>21.0</td>\n",
              "      <td>396.90</td>\n",
              "      <td>5.64</td>\n",
              "      <td>23.9</td>\n",
              "    </tr>\n",
              "    <tr>\n",
              "      <th>504</th>\n",
              "      <td>0.10959</td>\n",
              "      <td>0.0</td>\n",
              "      <td>11.93</td>\n",
              "      <td>0.0</td>\n",
              "      <td>0.573</td>\n",
              "      <td>6.794</td>\n",
              "      <td>89.3</td>\n",
              "      <td>2.3889</td>\n",
              "      <td>1.0</td>\n",
              "      <td>273.0</td>\n",
              "      <td>21.0</td>\n",
              "      <td>393.45</td>\n",
              "      <td>6.48</td>\n",
              "      <td>22.0</td>\n",
              "    </tr>\n",
              "    <tr>\n",
              "      <th>505</th>\n",
              "      <td>0.04741</td>\n",
              "      <td>0.0</td>\n",
              "      <td>11.93</td>\n",
              "      <td>0.0</td>\n",
              "      <td>0.573</td>\n",
              "      <td>6.030</td>\n",
              "      <td>80.8</td>\n",
              "      <td>2.5050</td>\n",
              "      <td>1.0</td>\n",
              "      <td>273.0</td>\n",
              "      <td>21.0</td>\n",
              "      <td>396.90</td>\n",
              "      <td>7.88</td>\n",
              "      <td>11.9</td>\n",
              "    </tr>\n",
              "  </tbody>\n",
              "</table>\n",
              "<p>506 rows × 14 columns</p>\n",
              "</div>"
            ],
            "text/plain": [
              "        CRIM    ZN  INDUS  CHAS    NOX     RM   AGE     DIS  RAD    TAX  \\\n",
              "0    0.00632  18.0   2.31   0.0  0.538  6.575  65.2  4.0900  1.0  296.0   \n",
              "1    0.02731   0.0   7.07   0.0  0.469  6.421  78.9  4.9671  2.0  242.0   \n",
              "2    0.02729   0.0   7.07   0.0  0.469  7.185  61.1  4.9671  2.0  242.0   \n",
              "3    0.03237   0.0   2.18   0.0  0.458  6.998  45.8  6.0622  3.0  222.0   \n",
              "4    0.06905   0.0   2.18   0.0  0.458  7.147  54.2  6.0622  3.0  222.0   \n",
              "..       ...   ...    ...   ...    ...    ...   ...     ...  ...    ...   \n",
              "501  0.06263   0.0  11.93   0.0  0.573  6.593  69.1  2.4786  1.0  273.0   \n",
              "502  0.04527   0.0  11.93   0.0  0.573  6.120  76.7  2.2875  1.0  273.0   \n",
              "503  0.06076   0.0  11.93   0.0  0.573  6.976  91.0  2.1675  1.0  273.0   \n",
              "504  0.10959   0.0  11.93   0.0  0.573  6.794  89.3  2.3889  1.0  273.0   \n",
              "505  0.04741   0.0  11.93   0.0  0.573  6.030  80.8  2.5050  1.0  273.0   \n",
              "\n",
              "     PTRATIO       B  LSTAT  target  \n",
              "0       15.3  396.90   4.98    24.0  \n",
              "1       17.8  396.90   9.14    21.6  \n",
              "2       17.8  392.83   4.03    34.7  \n",
              "3       18.7  394.63   2.94    33.4  \n",
              "4       18.7  396.90   5.33    36.2  \n",
              "..       ...     ...    ...     ...  \n",
              "501     21.0  391.99   9.67    22.4  \n",
              "502     21.0  396.90   9.08    20.6  \n",
              "503     21.0  396.90   5.64    23.9  \n",
              "504     21.0  393.45   6.48    22.0  \n",
              "505     21.0  396.90   7.88    11.9  \n",
              "\n",
              "[506 rows x 14 columns]"
            ]
          },
          "metadata": {
            "tags": []
          },
          "execution_count": 130
        }
      ]
    },
    {
      "cell_type": "code",
      "metadata": {
        "id": "CBPcqW2xN7NU",
        "colab_type": "code",
        "colab": {},
        "outputId": "e3823973-5083-4d5d-da80-ce240ef1ef3b"
      },
      "source": [
        "# use round(decimals=2) to set the precision to 2 decimal places\n",
        "# describe() gives the Statistical values of each column\n",
        "df.describe().round(decimals=2)"
      ],
      "execution_count": 0,
      "outputs": [
        {
          "output_type": "execute_result",
          "data": {
            "text/html": [
              "<div>\n",
              "<style scoped>\n",
              "    .dataframe tbody tr th:only-of-type {\n",
              "        vertical-align: middle;\n",
              "    }\n",
              "\n",
              "    .dataframe tbody tr th {\n",
              "        vertical-align: top;\n",
              "    }\n",
              "\n",
              "    .dataframe thead th {\n",
              "        text-align: right;\n",
              "    }\n",
              "</style>\n",
              "<table border=\"1\" class=\"dataframe\">\n",
              "  <thead>\n",
              "    <tr style=\"text-align: right;\">\n",
              "      <th></th>\n",
              "      <th>CRIM</th>\n",
              "      <th>ZN</th>\n",
              "      <th>INDUS</th>\n",
              "      <th>CHAS</th>\n",
              "      <th>NOX</th>\n",
              "      <th>RM</th>\n",
              "      <th>AGE</th>\n",
              "      <th>DIS</th>\n",
              "      <th>RAD</th>\n",
              "      <th>TAX</th>\n",
              "      <th>PTRATIO</th>\n",
              "      <th>B</th>\n",
              "      <th>LSTAT</th>\n",
              "      <th>target</th>\n",
              "    </tr>\n",
              "  </thead>\n",
              "  <tbody>\n",
              "    <tr>\n",
              "      <th>count</th>\n",
              "      <td>506.00</td>\n",
              "      <td>506.00</td>\n",
              "      <td>506.00</td>\n",
              "      <td>506.00</td>\n",
              "      <td>506.00</td>\n",
              "      <td>506.00</td>\n",
              "      <td>506.00</td>\n",
              "      <td>506.00</td>\n",
              "      <td>506.00</td>\n",
              "      <td>506.00</td>\n",
              "      <td>506.00</td>\n",
              "      <td>506.00</td>\n",
              "      <td>506.00</td>\n",
              "      <td>506.00</td>\n",
              "    </tr>\n",
              "    <tr>\n",
              "      <th>mean</th>\n",
              "      <td>3.61</td>\n",
              "      <td>11.36</td>\n",
              "      <td>11.14</td>\n",
              "      <td>0.07</td>\n",
              "      <td>0.55</td>\n",
              "      <td>6.28</td>\n",
              "      <td>68.57</td>\n",
              "      <td>3.80</td>\n",
              "      <td>9.55</td>\n",
              "      <td>408.24</td>\n",
              "      <td>18.46</td>\n",
              "      <td>356.67</td>\n",
              "      <td>12.65</td>\n",
              "      <td>22.53</td>\n",
              "    </tr>\n",
              "    <tr>\n",
              "      <th>std</th>\n",
              "      <td>8.60</td>\n",
              "      <td>23.32</td>\n",
              "      <td>6.86</td>\n",
              "      <td>0.25</td>\n",
              "      <td>0.12</td>\n",
              "      <td>0.70</td>\n",
              "      <td>28.15</td>\n",
              "      <td>2.11</td>\n",
              "      <td>8.71</td>\n",
              "      <td>168.54</td>\n",
              "      <td>2.16</td>\n",
              "      <td>91.29</td>\n",
              "      <td>7.14</td>\n",
              "      <td>9.20</td>\n",
              "    </tr>\n",
              "    <tr>\n",
              "      <th>min</th>\n",
              "      <td>0.01</td>\n",
              "      <td>0.00</td>\n",
              "      <td>0.46</td>\n",
              "      <td>0.00</td>\n",
              "      <td>0.38</td>\n",
              "      <td>3.56</td>\n",
              "      <td>2.90</td>\n",
              "      <td>1.13</td>\n",
              "      <td>1.00</td>\n",
              "      <td>187.00</td>\n",
              "      <td>12.60</td>\n",
              "      <td>0.32</td>\n",
              "      <td>1.73</td>\n",
              "      <td>5.00</td>\n",
              "    </tr>\n",
              "    <tr>\n",
              "      <th>25%</th>\n",
              "      <td>0.08</td>\n",
              "      <td>0.00</td>\n",
              "      <td>5.19</td>\n",
              "      <td>0.00</td>\n",
              "      <td>0.45</td>\n",
              "      <td>5.89</td>\n",
              "      <td>45.02</td>\n",
              "      <td>2.10</td>\n",
              "      <td>4.00</td>\n",
              "      <td>279.00</td>\n",
              "      <td>17.40</td>\n",
              "      <td>375.38</td>\n",
              "      <td>6.95</td>\n",
              "      <td>17.02</td>\n",
              "    </tr>\n",
              "    <tr>\n",
              "      <th>50%</th>\n",
              "      <td>0.26</td>\n",
              "      <td>0.00</td>\n",
              "      <td>9.69</td>\n",
              "      <td>0.00</td>\n",
              "      <td>0.54</td>\n",
              "      <td>6.21</td>\n",
              "      <td>77.50</td>\n",
              "      <td>3.21</td>\n",
              "      <td>5.00</td>\n",
              "      <td>330.00</td>\n",
              "      <td>19.05</td>\n",
              "      <td>391.44</td>\n",
              "      <td>11.36</td>\n",
              "      <td>21.20</td>\n",
              "    </tr>\n",
              "    <tr>\n",
              "      <th>75%</th>\n",
              "      <td>3.68</td>\n",
              "      <td>12.50</td>\n",
              "      <td>18.10</td>\n",
              "      <td>0.00</td>\n",
              "      <td>0.62</td>\n",
              "      <td>6.62</td>\n",
              "      <td>94.07</td>\n",
              "      <td>5.19</td>\n",
              "      <td>24.00</td>\n",
              "      <td>666.00</td>\n",
              "      <td>20.20</td>\n",
              "      <td>396.22</td>\n",
              "      <td>16.96</td>\n",
              "      <td>25.00</td>\n",
              "    </tr>\n",
              "    <tr>\n",
              "      <th>max</th>\n",
              "      <td>88.98</td>\n",
              "      <td>100.00</td>\n",
              "      <td>27.74</td>\n",
              "      <td>1.00</td>\n",
              "      <td>0.87</td>\n",
              "      <td>8.78</td>\n",
              "      <td>100.00</td>\n",
              "      <td>12.13</td>\n",
              "      <td>24.00</td>\n",
              "      <td>711.00</td>\n",
              "      <td>22.00</td>\n",
              "      <td>396.90</td>\n",
              "      <td>37.97</td>\n",
              "      <td>50.00</td>\n",
              "    </tr>\n",
              "  </tbody>\n",
              "</table>\n",
              "</div>"
            ],
            "text/plain": [
              "         CRIM      ZN   INDUS    CHAS     NOX      RM     AGE     DIS     RAD  \\\n",
              "count  506.00  506.00  506.00  506.00  506.00  506.00  506.00  506.00  506.00   \n",
              "mean     3.61   11.36   11.14    0.07    0.55    6.28   68.57    3.80    9.55   \n",
              "std      8.60   23.32    6.86    0.25    0.12    0.70   28.15    2.11    8.71   \n",
              "min      0.01    0.00    0.46    0.00    0.38    3.56    2.90    1.13    1.00   \n",
              "25%      0.08    0.00    5.19    0.00    0.45    5.89   45.02    2.10    4.00   \n",
              "50%      0.26    0.00    9.69    0.00    0.54    6.21   77.50    3.21    5.00   \n",
              "75%      3.68   12.50   18.10    0.00    0.62    6.62   94.07    5.19   24.00   \n",
              "max     88.98  100.00   27.74    1.00    0.87    8.78  100.00   12.13   24.00   \n",
              "\n",
              "          TAX  PTRATIO       B   LSTAT  target  \n",
              "count  506.00   506.00  506.00  506.00  506.00  \n",
              "mean   408.24    18.46  356.67   12.65   22.53  \n",
              "std    168.54     2.16   91.29    7.14    9.20  \n",
              "min    187.00    12.60    0.32    1.73    5.00  \n",
              "25%    279.00    17.40  375.38    6.95   17.02  \n",
              "50%    330.00    19.05  391.44   11.36   21.20  \n",
              "75%    666.00    20.20  396.22   16.96   25.00  \n",
              "max    711.00    22.00  396.90   37.97   50.00  "
            ]
          },
          "metadata": {
            "tags": []
          },
          "execution_count": 131
        }
      ]
    },
    {
      "cell_type": "code",
      "metadata": {
        "id": "SZsbOkR1N7NX",
        "colab_type": "code",
        "colab": {}
      },
      "source": [
        "# calculate the correlation between each and every column of the data\n",
        "# dataframe.corr(\"Method\")\n",
        "corr=df.corr(\"pearson\")"
      ],
      "execution_count": 0,
      "outputs": []
    },
    {
      "cell_type": "code",
      "metadata": {
        "id": "U61uJkncN7NZ",
        "colab_type": "code",
        "colab": {}
      },
      "source": [
        "# Take absolute values of correlations\n",
        "corrs=[abs(corr[attr][\"target\"]) for attr in list(features)]"
      ],
      "execution_count": 0,
      "outputs": []
    },
    {
      "cell_type": "code",
      "metadata": {
        "id": "V1gogtgPN7Nc",
        "colab_type": "code",
        "colab": {},
        "outputId": "ca43f460-0b76-4956-ed9d-0b2a4339415b"
      },
      "source": [
        "# Make a list of pairs[(corr,features)]\n",
        "# zip(*iterators)\n",
        "l=list(zip(corrs,list(features)))\n",
        "\n",
        "# Sort the list of pairs in the reverse/decending order with the correlation value as the key of sorting\n",
        "l.sort(key=lambda x : x[0],reverse=True)\n",
        "\n",
        "# \"unzip\" pairs to two lists\n",
        "# zip(*l)= takes a list that looks like [[p,o,p],[g,o,t],[h,o,t]]\n",
        "# and returns [[p,g,h],[o,o,o],[p,t,h]]\n",
        "corrs, labels=list(zip(*l))\n",
        "\n",
        "# plot correlations of the target variables as bar graph\n",
        "# plt.bar(x,height,width=0.8)\n",
        "index=np.arange(len(labels))\n",
        "plt.figure(figsize=(15,5))\n",
        "plt.bar(index,corrs,width=0.5)\n",
        "plt.xlabel(\"Attributes\")\n",
        "plt.ylabel(\"Correlation with the target variables\")\n",
        "plt.xticks(index,labels)\n",
        "plt.show()"
      ],
      "execution_count": 0,
      "outputs": [
        {
          "output_type": "display_data",
          "data": {
            "image/png": "[encoded data removed]",
            "text/plain": [
              "<Figure size 1080x360 with 1 Axes>"
            ]
          },
          "metadata": {
            "tags": [],
            "needs_background": "light"
          }
        }
      ]
    },
    {
      "cell_type": "markdown",
      "metadata": {
        "id": "q2gYEM3nN7Nf",
        "colab_type": "text"
      },
      "source": [
        "**we can observe from the above bar graph , that LSTAT and RM are the two highest obsolute correlation values**"
      ]
    },
    {
      "cell_type": "markdown",
      "metadata": {
        "id": "RRLMdJzrN7Ng",
        "colab_type": "text"
      },
      "source": [
        "**Normalize the data**"
      ]
    },
    {
      "cell_type": "markdown",
      "metadata": {
        "id": "JwJStzXBN7Ng",
        "colab_type": "text"
      },
      "source": [
        "Normalize the data with MinMaxScaler"
      ]
    },
    {
      "cell_type": "code",
      "metadata": {
        "id": "1cVZXDjdN7Nh",
        "colab_type": "code",
        "colab": {},
        "outputId": "6fcb32ff-1bc3-4aec-c35b-e44718e196b2"
      },
      "source": [
        "x=df[\"LSTAT\"].values\n",
        "y=df[\"target\"].values\n",
        "y"
      ],
      "execution_count": 0,
      "outputs": [
        {
          "output_type": "execute_result",
          "data": {
            "text/plain": [
              "array([24. , 21.6, 34.7, 33.4, 36.2, 28.7, 22.9, 27.1, 16.5, 18.9, 15. ,\n",
              "       18.9, 21.7, 20.4, 18.2, 19.9, 23.1, 17.5, 20.2, 18.2, 13.6, 19.6,\n",
              "       15.2, 14.5, 15.6, 13.9, 16.6, 14.8, 18.4, 21. , 12.7, 14.5, 13.2,\n",
              "       13.1, 13.5, 18.9, 20. , 21. , 24.7, 30.8, 34.9, 26.6, 25.3, 24.7,\n",
              "       21.2, 19.3, 20. , 16.6, 14.4, 19.4, 19.7, 20.5, 25. , 23.4, 18.9,\n",
              "       35.4, 24.7, 31.6, 23.3, 19.6, 18.7, 16. , 22.2, 25. , 33. , 23.5,\n",
              "       19.4, 22. , 17.4, 20.9, 24.2, 21.7, 22.8, 23.4, 24.1, 21.4, 20. ,\n",
              "       20.8, 21.2, 20.3, 28. , 23.9, 24.8, 22.9, 23.9, 26.6, 22.5, 22.2,\n",
              "       23.6, 28.7, 22.6, 22. , 22.9, 25. , 20.6, 28.4, 21.4, 38.7, 43.8,\n",
              "       33.2, 27.5, 26.5, 18.6, 19.3, 20.1, 19.5, 19.5, 20.4, 19.8, 19.4,\n",
              "       21.7, 22.8, 18.8, 18.7, 18.5, 18.3, 21.2, 19.2, 20.4, 19.3, 22. ,\n",
              "       20.3, 20.5, 17.3, 18.8, 21.4, 15.7, 16.2, 18. , 14.3, 19.2, 19.6,\n",
              "       23. , 18.4, 15.6, 18.1, 17.4, 17.1, 13.3, 17.8, 14. , 14.4, 13.4,\n",
              "       15.6, 11.8, 13.8, 15.6, 14.6, 17.8, 15.4, 21.5, 19.6, 15.3, 19.4,\n",
              "       17. , 15.6, 13.1, 41.3, 24.3, 23.3, 27. , 50. , 50. , 50. , 22.7,\n",
              "       25. , 50. , 23.8, 23.8, 22.3, 17.4, 19.1, 23.1, 23.6, 22.6, 29.4,\n",
              "       23.2, 24.6, 29.9, 37.2, 39.8, 36.2, 37.9, 32.5, 26.4, 29.6, 50. ,\n",
              "       32. , 29.8, 34.9, 37. , 30.5, 36.4, 31.1, 29.1, 50. , 33.3, 30.3,\n",
              "       34.6, 34.9, 32.9, 24.1, 42.3, 48.5, 50. , 22.6, 24.4, 22.5, 24.4,\n",
              "       20. , 21.7, 19.3, 22.4, 28.1, 23.7, 25. , 23.3, 28.7, 21.5, 23. ,\n",
              "       26.7, 21.7, 27.5, 30.1, 44.8, 50. , 37.6, 31.6, 46.7, 31.5, 24.3,\n",
              "       31.7, 41.7, 48.3, 29. , 24. , 25.1, 31.5, 23.7, 23.3, 22. , 20.1,\n",
              "       22.2, 23.7, 17.6, 18.5, 24.3, 20.5, 24.5, 26.2, 24.4, 24.8, 29.6,\n",
              "       42.8, 21.9, 20.9, 44. , 50. , 36. , 30.1, 33.8, 43.1, 48.8, 31. ,\n",
              "       36.5, 22.8, 30.7, 50. , 43.5, 20.7, 21.1, 25.2, 24.4, 35.2, 32.4,\n",
              "       32. , 33.2, 33.1, 29.1, 35.1, 45.4, 35.4, 46. , 50. , 32.2, 22. ,\n",
              "       20.1, 23.2, 22.3, 24.8, 28.5, 37.3, 27.9, 23.9, 21.7, 28.6, 27.1,\n",
              "       20.3, 22.5, 29. , 24.8, 22. , 26.4, 33.1, 36.1, 28.4, 33.4, 28.2,\n",
              "       22.8, 20.3, 16.1, 22.1, 19.4, 21.6, 23.8, 16.2, 17.8, 19.8, 23.1,\n",
              "       21. , 23.8, 23.1, 20.4, 18.5, 25. , 24.6, 23. , 22.2, 19.3, 22.6,\n",
              "       19.8, 17.1, 19.4, 22.2, 20.7, 21.1, 19.5, 18.5, 20.6, 19. , 18.7,\n",
              "       32.7, 16.5, 23.9, 31.2, 17.5, 17.2, 23.1, 24.5, 26.6, 22.9, 24.1,\n",
              "       18.6, 30.1, 18.2, 20.6, 17.8, 21.7, 22.7, 22.6, 25. , 19.9, 20.8,\n",
              "       16.8, 21.9, 27.5, 21.9, 23.1, 50. , 50. , 50. , 50. , 50. , 13.8,\n",
              "       13.8, 15. , 13.9, 13.3, 13.1, 10.2, 10.4, 10.9, 11.3, 12.3,  8.8,\n",
              "        7.2, 10.5,  7.4, 10.2, 11.5, 15.1, 23.2,  9.7, 13.8, 12.7, 13.1,\n",
              "       12.5,  8.5,  5. ,  6.3,  5.6,  7.2, 12.1,  8.3,  8.5,  5. , 11.9,\n",
              "       27.9, 17.2, 27.5, 15. , 17.2, 17.9, 16.3,  7. ,  7.2,  7.5, 10.4,\n",
              "        8.8,  8.4, 16.7, 14.2, 20.8, 13.4, 11.7,  8.3, 10.2, 10.9, 11. ,\n",
              "        9.5, 14.5, 14.1, 16.1, 14.3, 11.7, 13.4,  9.6,  8.7,  8.4, 12.8,\n",
              "       10.5, 17.1, 18.4, 15.4, 10.8, 11.8, 14.9, 12.6, 14.1, 13. , 13.4,\n",
              "       15.2, 16.1, 17.8, 14.9, 14.1, 12.7, 13.5, 14.9, 20. , 16.4, 17.7,\n",
              "       19.5, 20.2, 21.4, 19.9, 19. , 19.1, 19.1, 20.1, 19.9, 19.6, 23.2,\n",
              "       29.8, 13.8, 13.3, 16.7, 12. , 14.6, 21.4, 23. , 23.7, 25. , 21.8,\n",
              "       20.6, 21.2, 19.1, 20.6, 15.2,  7. ,  8.1, 13.6, 20.1, 21.8, 24.5,\n",
              "       23.1, 19.7, 18.3, 21.2, 17.5, 16.8, 22.4, 20.6, 23.9, 22. , 11.9])"
            ]
          },
          "metadata": {
            "tags": []
          },
          "execution_count": 225
        }
      ]
    },
    {
      "cell_type": "code",
      "metadata": {
        "id": "NeJUVuHjN7Nj",
        "colab_type": "code",
        "colab": {},
        "outputId": "e538d834-8943-4228-d51d-51d91c7204b7"
      },
      "source": [
        "#Before Normalization\n",
        "print(y[:5])"
      ],
      "execution_count": 0,
      "outputs": [
        {
          "output_type": "stream",
          "text": [
            "[24.  21.6 34.7 33.4 36.2]\n"
          ],
          "name": "stdout"
        }
      ]
    },
    {
      "cell_type": "code",
      "metadata": {
        "id": "yzxumGpCN7Nm",
        "colab_type": "code",
        "colab": {},
        "outputId": "85759609-4730-495d-88ae-3abe592c7e29"
      },
      "source": [
        "# MinMaxScaler() is used to store the values from 0 to 1\n",
        "x_scaler=MinMaxScaler()\n",
        "x=x_scaler.fit_transform(x.reshape(-1,1))\n",
        "x=x[:,-1]\n",
        "y_scaler=MinMaxScaler()\n",
        "y=y_scaler.fit_transform(y.reshape(-1,1))\n",
        "y=y[:,-1]\n",
        "y"
      ],
      "execution_count": 0,
      "outputs": [
        {
          "output_type": "execute_result",
          "data": {
            "text/plain": [
              "array([0.42222222, 0.36888889, 0.66      , 0.63111111, 0.69333333,\n",
              "       0.52666667, 0.39777778, 0.49111111, 0.25555556, 0.30888889,\n",
              "       0.22222222, 0.30888889, 0.37111111, 0.34222222, 0.29333333,\n",
              "       0.33111111, 0.40222222, 0.27777778, 0.33777778, 0.29333333,\n",
              "       0.19111111, 0.32444444, 0.22666667, 0.21111111, 0.23555556,\n",
              "       0.19777778, 0.25777778, 0.21777778, 0.29777778, 0.35555556,\n",
              "       0.17111111, 0.21111111, 0.18222222, 0.18      , 0.18888889,\n",
              "       0.30888889, 0.33333333, 0.35555556, 0.43777778, 0.57333333,\n",
              "       0.66444444, 0.48      , 0.45111111, 0.43777778, 0.36      ,\n",
              "       0.31777778, 0.33333333, 0.25777778, 0.20888889, 0.32      ,\n",
              "       0.32666667, 0.34444444, 0.44444444, 0.40888889, 0.30888889,\n",
              "       0.67555556, 0.43777778, 0.59111111, 0.40666667, 0.32444444,\n",
              "       0.30444444, 0.24444444, 0.38222222, 0.44444444, 0.62222222,\n",
              "       0.41111111, 0.32      , 0.37777778, 0.27555556, 0.35333333,\n",
              "       0.42666667, 0.37111111, 0.39555556, 0.40888889, 0.42444444,\n",
              "       0.36444444, 0.33333333, 0.35111111, 0.36      , 0.34      ,\n",
              "       0.51111111, 0.42      , 0.44      , 0.39777778, 0.42      ,\n",
              "       0.48      , 0.38888889, 0.38222222, 0.41333333, 0.52666667,\n",
              "       0.39111111, 0.37777778, 0.39777778, 0.44444444, 0.34666667,\n",
              "       0.52      , 0.36444444, 0.74888889, 0.86222222, 0.62666667,\n",
              "       0.5       , 0.47777778, 0.30222222, 0.31777778, 0.33555556,\n",
              "       0.32222222, 0.32222222, 0.34222222, 0.32888889, 0.32      ,\n",
              "       0.37111111, 0.39555556, 0.30666667, 0.30444444, 0.3       ,\n",
              "       0.29555556, 0.36      , 0.31555556, 0.34222222, 0.31777778,\n",
              "       0.37777778, 0.34      , 0.34444444, 0.27333333, 0.30666667,\n",
              "       0.36444444, 0.23777778, 0.24888889, 0.28888889, 0.20666667,\n",
              "       0.31555556, 0.32444444, 0.4       , 0.29777778, 0.23555556,\n",
              "       0.29111111, 0.27555556, 0.26888889, 0.18444444, 0.28444444,\n",
              "       0.2       , 0.20888889, 0.18666667, 0.23555556, 0.15111111,\n",
              "       0.19555556, 0.23555556, 0.21333333, 0.28444444, 0.23111111,\n",
              "       0.36666667, 0.32444444, 0.22888889, 0.32      , 0.26666667,\n",
              "       0.23555556, 0.18      , 0.80666667, 0.42888889, 0.40666667,\n",
              "       0.48888889, 1.        , 1.        , 1.        , 0.39333333,\n",
              "       0.44444444, 1.        , 0.41777778, 0.41777778, 0.38444444,\n",
              "       0.27555556, 0.31333333, 0.40222222, 0.41333333, 0.39111111,\n",
              "       0.54222222, 0.40444444, 0.43555556, 0.55333333, 0.71555556,\n",
              "       0.77333333, 0.69333333, 0.73111111, 0.61111111, 0.47555556,\n",
              "       0.54666667, 1.        , 0.6       , 0.55111111, 0.66444444,\n",
              "       0.71111111, 0.56666667, 0.69777778, 0.58      , 0.53555556,\n",
              "       1.        , 0.62888889, 0.56222222, 0.65777778, 0.66444444,\n",
              "       0.62      , 0.42444444, 0.82888889, 0.96666667, 1.        ,\n",
              "       0.39111111, 0.43111111, 0.38888889, 0.43111111, 0.33333333,\n",
              "       0.37111111, 0.31777778, 0.38666667, 0.51333333, 0.41555556,\n",
              "       0.44444444, 0.40666667, 0.52666667, 0.36666667, 0.4       ,\n",
              "       0.48222222, 0.37111111, 0.5       , 0.55777778, 0.88444444,\n",
              "       1.        , 0.72444444, 0.59111111, 0.92666667, 0.58888889,\n",
              "       0.42888889, 0.59333333, 0.81555556, 0.96222222, 0.53333333,\n",
              "       0.42222222, 0.44666667, 0.58888889, 0.41555556, 0.40666667,\n",
              "       0.37777778, 0.33555556, 0.38222222, 0.41555556, 0.28      ,\n",
              "       0.3       , 0.42888889, 0.34444444, 0.43333333, 0.47111111,\n",
              "       0.43111111, 0.44      , 0.54666667, 0.84      , 0.37555556,\n",
              "       0.35333333, 0.86666667, 1.        , 0.68888889, 0.55777778,\n",
              "       0.64      , 0.84666667, 0.97333333, 0.57777778, 0.7       ,\n",
              "       0.39555556, 0.57111111, 1.        , 0.85555556, 0.34888889,\n",
              "       0.35777778, 0.44888889, 0.43111111, 0.67111111, 0.60888889,\n",
              "       0.6       , 0.62666667, 0.62444444, 0.53555556, 0.66888889,\n",
              "       0.89777778, 0.67555556, 0.91111111, 1.        , 0.60444444,\n",
              "       0.37777778, 0.33555556, 0.40444444, 0.38444444, 0.44      ,\n",
              "       0.52222222, 0.71777778, 0.50888889, 0.42      , 0.37111111,\n",
              "       0.52444444, 0.49111111, 0.34      , 0.38888889, 0.53333333,\n",
              "       0.44      , 0.37777778, 0.47555556, 0.62444444, 0.69111111,\n",
              "       0.52      , 0.63111111, 0.51555556, 0.39555556, 0.34      ,\n",
              "       0.24666667, 0.38      , 0.32      , 0.36888889, 0.41777778,\n",
              "       0.24888889, 0.28444444, 0.32888889, 0.40222222, 0.35555556,\n",
              "       0.41777778, 0.40222222, 0.34222222, 0.3       , 0.44444444,\n",
              "       0.43555556, 0.4       , 0.38222222, 0.31777778, 0.39111111,\n",
              "       0.32888889, 0.26888889, 0.32      , 0.38222222, 0.34888889,\n",
              "       0.35777778, 0.32222222, 0.3       , 0.34666667, 0.31111111,\n",
              "       0.30444444, 0.61555556, 0.25555556, 0.42      , 0.58222222,\n",
              "       0.27777778, 0.27111111, 0.40222222, 0.43333333, 0.48      ,\n",
              "       0.39777778, 0.42444444, 0.30222222, 0.55777778, 0.29333333,\n",
              "       0.34666667, 0.28444444, 0.37111111, 0.39333333, 0.39111111,\n",
              "       0.44444444, 0.33111111, 0.35111111, 0.26222222, 0.37555556,\n",
              "       0.5       , 0.37555556, 0.40222222, 1.        , 1.        ,\n",
              "       1.        , 1.        , 1.        , 0.19555556, 0.19555556,\n",
              "       0.22222222, 0.19777778, 0.18444444, 0.18      , 0.11555556,\n",
              "       0.12      , 0.13111111, 0.14      , 0.16222222, 0.08444444,\n",
              "       0.04888889, 0.12222222, 0.05333333, 0.11555556, 0.14444444,\n",
              "       0.22444444, 0.40444444, 0.10444444, 0.19555556, 0.17111111,\n",
              "       0.18      , 0.16666667, 0.07777778, 0.        , 0.02888889,\n",
              "       0.01333333, 0.04888889, 0.15777778, 0.07333333, 0.07777778,\n",
              "       0.        , 0.15333333, 0.50888889, 0.27111111, 0.5       ,\n",
              "       0.22222222, 0.27111111, 0.28666667, 0.25111111, 0.04444444,\n",
              "       0.04888889, 0.05555556, 0.12      , 0.08444444, 0.07555556,\n",
              "       0.26      , 0.20444444, 0.35111111, 0.18666667, 0.14888889,\n",
              "       0.07333333, 0.11555556, 0.13111111, 0.13333333, 0.1       ,\n",
              "       0.21111111, 0.20222222, 0.24666667, 0.20666667, 0.14888889,\n",
              "       0.18666667, 0.10222222, 0.08222222, 0.07555556, 0.17333333,\n",
              "       0.12222222, 0.26888889, 0.29777778, 0.23111111, 0.12888889,\n",
              "       0.15111111, 0.22      , 0.16888889, 0.20222222, 0.17777778,\n",
              "       0.18666667, 0.22666667, 0.24666667, 0.28444444, 0.22      ,\n",
              "       0.20222222, 0.17111111, 0.18888889, 0.22      , 0.33333333,\n",
              "       0.25333333, 0.28222222, 0.32222222, 0.33777778, 0.36444444,\n",
              "       0.33111111, 0.31111111, 0.31333333, 0.31333333, 0.33555556,\n",
              "       0.33111111, 0.32444444, 0.40444444, 0.55111111, 0.19555556,\n",
              "       0.18444444, 0.26      , 0.15555556, 0.21333333, 0.36444444,\n",
              "       0.4       , 0.41555556, 0.44444444, 0.37333333, 0.34666667,\n",
              "       0.36      , 0.31333333, 0.34666667, 0.22666667, 0.04444444,\n",
              "       0.06888889, 0.19111111, 0.33555556, 0.37333333, 0.43333333,\n",
              "       0.40222222, 0.32666667, 0.29555556, 0.36      , 0.27777778,\n",
              "       0.26222222, 0.38666667, 0.34666667, 0.42      , 0.37777778,\n",
              "       0.15333333])"
            ]
          },
          "metadata": {
            "tags": []
          },
          "execution_count": 227
        }
      ]
    },
    {
      "cell_type": "code",
      "metadata": {
        "id": "qsSVBK8cN7No",
        "colab_type": "code",
        "colab": {},
        "outputId": "23cee7b9-a21c-4ff2-bd50-b3794b88839e"
      },
      "source": [
        "#After Normalization\n",
        "print(y[:5])"
      ],
      "execution_count": 0,
      "outputs": [
        {
          "output_type": "stream",
          "text": [
            "[0.42222222 0.36888889 0.66       0.63111111 0.69333333]\n"
          ],
          "name": "stdout"
        }
      ]
    },
    {
      "cell_type": "markdown",
      "metadata": {
        "id": "tuoLBDadN7Nr",
        "colab_type": "text"
      },
      "source": [
        "**STEP-2**\n",
        "       "
      ]
    },
    {
      "cell_type": "markdown",
      "metadata": {
        "id": "I-G3bf0CN7Ns",
        "colab_type": "text"
      },
      "source": [
        "**Define Error**"
      ]
    },
    {
      "cell_type": "code",
      "metadata": {
        "id": "jv9xSJEIN7Ns",
        "colab_type": "code",
        "colab": {}
      },
      "source": [
        "# Generate n evenly spaced values from zero radians to 2 pi radians\n",
        "n=200\n",
        "x=np.linspace(0,2**np.pi,n)\n",
        "sine_values=np.sin(x)"
      ],
      "execution_count": 0,
      "outputs": []
    },
    {
      "cell_type": "code",
      "metadata": {
        "id": "7ikBQQCtN7Nv",
        "colab_type": "code",
        "colab": {},
        "outputId": "5414c8a6-69dc-43e7-fae3-2d46a4d303e5"
      },
      "source": [
        "# Plot the sine wave\n",
        "plt.plot(x,sine_values)"
      ],
      "execution_count": 0,
      "outputs": [
        {
          "output_type": "execute_result",
          "data": {
            "text/plain": [
              "[<matplotlib.lines.Line2D at 0x272477a9a48>]"
            ]
          },
          "metadata": {
            "tags": []
          },
          "execution_count": 140
        },
        {
          "output_type": "display_data",
          "data": {
            "image/png": "[encoded data removed]",
            "text/plain": [
              "<Figure size 432x288 with 1 Axes>"
            ]
          },
          "metadata": {
            "tags": [],
            "needs_background": "light"
          }
        }
      ]
    },
    {
      "cell_type": "code",
      "metadata": {
        "id": "B4r2I8rcN7Nx",
        "colab_type": "code",
        "colab": {}
      },
      "source": [
        "# Add some noise to the sine wave\n",
        "noise=0.5\n",
        "noisy_sine_values=sine_values+np.random.uniform(-noise,noise,n)"
      ],
      "execution_count": 0,
      "outputs": []
    },
    {
      "cell_type": "code",
      "metadata": {
        "id": "B7m5-c9gN7Nz",
        "colab_type": "code",
        "colab": {},
        "outputId": "d736b91b-ced4-44ac-e8d0-5c8a3beb7d07"
      },
      "source": [
        "# plot the noisy values\n",
        "plt.plot(x,noisy_sine_values,color=\"r\")\n",
        "plt.plot(x,sine_values,color=\"b\")"
      ],
      "execution_count": 0,
      "outputs": [
        {
          "output_type": "execute_result",
          "data": {
            "text/plain": [
              "[<matplotlib.lines.Line2D at 0x27247535588>]"
            ]
          },
          "metadata": {
            "tags": []
          },
          "execution_count": 142
        },
        {
          "output_type": "display_data",
          "data": {
            "image/png": "[encoded data removed]",
            "text/plain": [
              "<Figure size 432x288 with 1 Axes>"
            ]
          },
          "metadata": {
            "tags": [],
            "needs_background": "light"
          }
        }
      ]
    },
    {
      "cell_type": "code",
      "metadata": {
        "id": "1pPQtjfPN7N2",
        "colab_type": "code",
        "colab": {},
        "outputId": "131735b4-31b3-4672-a949-1bd0835d9486"
      },
      "source": [
        "# Calculate Mean Squared Error using the equation\n",
        "error_value=(1/n)*sum(np.power(sine_values-noisy_sine_values,2))\n",
        "error_value"
      ],
      "execution_count": 0,
      "outputs": [
        {
          "output_type": "execute_result",
          "data": {
            "text/plain": [
              "0.08560203555328705"
            ]
          },
          "metadata": {
            "tags": []
          },
          "execution_count": 143
        }
      ]
    },
    {
      "cell_type": "code",
      "metadata": {
        "id": "aLp2peYKN7N4",
        "colab_type": "code",
        "colab": {},
        "outputId": "fb18c7b7-af4a-469b-d467-59c5f5fe6134"
      },
      "source": [
        "# Calculate Mean Squared Error using the function from the SKlearn Library\n",
        "mean_squared_error(sine_values,noisy_sine_values)"
      ],
      "execution_count": 0,
      "outputs": [
        {
          "output_type": "execute_result",
          "data": {
            "text/plain": [
              "0.08560203555328705"
            ]
          },
          "metadata": {
            "tags": []
          },
          "execution_count": 144
        }
      ]
    },
    {
      "cell_type": "markdown",
      "metadata": {
        "id": "ZuIe-vzYN7N6",
        "colab_type": "text"
      },
      "source": [
        "**We can observe that the MSE values are not very different from each other**"
      ]
    },
    {
      "cell_type": "markdown",
      "metadata": {
        "id": "E0gq6k_MN7N7",
        "colab_type": "text"
      },
      "source": [
        "**STEP 3**\n",
        "\n",
        "\n"
      ]
    },
    {
      "cell_type": "markdown",
      "metadata": {
        "id": "IWJC10aLN7N7",
        "colab_type": "text"
      },
      "source": [
        "**Split the data**"
      ]
    },
    {
      "cell_type": "code",
      "metadata": {
        "id": "fA4n5FM3N7N8",
        "colab_type": "code",
        "colab": {}
      },
      "source": [
        "# 0.2 indicates 20% of the data is randomly samples a tested data.\n",
        "x_train,x_test,y_train,y_test=train_test_split(x,y,test_size=0.2)"
      ],
      "execution_count": 0,
      "outputs": []
    },
    {
      "cell_type": "markdown",
      "metadata": {
        "id": "SVhpiQ9sN7N_",
        "colab_type": "text"
      },
      "source": [
        "**STEP 4**"
      ]
    },
    {
      "cell_type": "markdown",
      "metadata": {
        "id": "CQu0efpnN7OA",
        "colab_type": "text"
      },
      "source": [
        "**Bulid the model**"
      ]
    },
    {
      "cell_type": "code",
      "metadata": {
        "id": "ynd8ddAYN7OA",
        "colab_type": "code",
        "colab": {}
      },
      "source": [
        "# 1) Error function\n",
        "# To calculate the cost function at the current position\n",
        "def error(m,x,c,t):\n",
        "    N=x.size\n",
        "    e=sum(((m*x+c)-t)**2)\n",
        "    return e * 1/(2*N)"
      ],
      "execution_count": 0,
      "outputs": []
    },
    {
      "cell_type": "code",
      "metadata": {
        "id": "q96dvZi6N7OD",
        "colab_type": "code",
        "colab": {}
      },
      "source": [
        "# 2) Update function\n",
        "# To calculate the m & c.\n",
        "def update(m,x,c,t,learning_rate):\n",
        "    grad_m=sum(2*((m*x+c)-t)*x)\n",
        "    grad_c=sum(2*((m*x+c)-t))\n",
        "    m=m-grad_m*learning_rate\n",
        "    c=c-grad_c*learning_rate\n",
        "    return m,c"
      ],
      "execution_count": 0,
      "outputs": []
    },
    {
      "cell_type": "code",
      "metadata": {
        "id": "7xxmao18N7OF",
        "colab_type": "code",
        "colab": {}
      },
      "source": [
        "# 3) Gradient Descent function\n",
        "# If the error falls below the threshold, then the gradient decent process is stopped and the weights are returned\n",
        "def gradient_decent(init_m,init_c,x,t,learning_rate,iterations,error_threshold):\n",
        "    m=init_m\n",
        "    c=init_c\n",
        "    error_values=list()\n",
        "    mc_values=list()\n",
        "    for i in range(iterations):\n",
        "        e=error(m,x,c,t)\n",
        "        if e<error_threshold:\n",
        "            print(\"Error less that the threshold.so,we are stopping the gradient descent\")\n",
        "            break\n",
        "        error_values.append(e)\n",
        "        m,c=update(m,x,c,t,learning_rate)\n",
        "        mc_values.append((m,c))\n",
        "    return m,c,error_values,mc_values"
      ],
      "execution_count": 0,
      "outputs": []
    },
    {
      "cell_type": "code",
      "metadata": {
        "id": "rKmYL5S9N7OH",
        "colab_type": "code",
        "colab": {}
      },
      "source": [
        "init_m=0\n",
        "init_c=0\n",
        "learning_rate=0.001\n",
        "iterations=1000\n",
        "error_threshold=0.001"
      ],
      "execution_count": 0,
      "outputs": []
    },
    {
      "cell_type": "code",
      "metadata": {
        "id": "kb8pBj_MN7OJ",
        "colab_type": "code",
        "colab": {}
      },
      "source": [
        "m,c,error_values,mc_values = gradient_decent(init_m,init_c,x_train,y_train,learning_rate,iterations,error_threshold)"
      ],
      "execution_count": 0,
      "outputs": []
    },
    {
      "cell_type": "markdown",
      "metadata": {
        "id": "w7Kx9KT_N7OM",
        "colab_type": "text"
      },
      "source": [
        "**Visualization of the Error values**"
      ]
    },
    {
      "cell_type": "markdown",
      "metadata": {
        "id": "Y8kmsSh9N7ON",
        "colab_type": "text"
      },
      "source": [
        "1) Plot the regression line : This line is aganist the training data set to visualize what the line looks like for the         training data set"
      ]
    },
    {
      "cell_type": "code",
      "metadata": {
        "id": "6VY9IUXjN7ON",
        "colab_type": "code",
        "colab": {},
        "outputId": "c1014f90-3e12-432d-e531-327e3081baf3"
      },
      "source": [
        "# plotting the regression line upon the training data set:\n",
        "plt.scatter(x_train,y_train,color='b')\n",
        "plt.plot(x_train,(m*x_train+c),color='r')"
      ],
      "execution_count": 0,
      "outputs": [
        {
          "output_type": "execute_result",
          "data": {
            "text/plain": [
              "[<matplotlib.lines.Line2D at 0x27246e56d48>]"
            ]
          },
          "metadata": {
            "tags": []
          },
          "execution_count": 224
        },
        {
          "output_type": "display_data",
          "data": {
            "image/png": "[encoded data removed]",
            "text/plain": [
              "<Figure size 432x288 with 1 Axes>"
            ]
          },
          "metadata": {
            "tags": [],
            "needs_background": "light"
          }
        }
      ]
    },
    {
      "cell_type": "markdown",
      "metadata": {
        "id": "kwNJhjofN7OP",
        "colab_type": "text"
      },
      "source": [
        "2) Plot the error values : This graph will show you how the error drops over time"
      ]
    },
    {
      "cell_type": "code",
      "metadata": {
        "id": "nDPppg86N7OQ",
        "colab_type": "code",
        "colab": {},
        "outputId": "b02eb10e-bbdc-4d61-c165-392949138e1b"
      },
      "source": [
        "# plotting the error values\n",
        "plt.plot(np.arange(len(error_values)),error_values)\n",
        "plt.xlabel(\"Iterations\")\n",
        "plt.ylabel(\"Error\")"
      ],
      "execution_count": 0,
      "outputs": [
        {
          "output_type": "execute_result",
          "data": {
            "text/plain": [
              "Text(0, 0.5, 'Error')"
            ]
          },
          "metadata": {
            "tags": []
          },
          "execution_count": 78
        },
        {
          "output_type": "display_data",
          "data": {
            "image/png": "[encoded data removed]",
            "text/plain": [
              "<Figure size 432x288 with 1 Axes>"
            ]
          },
          "metadata": {
            "tags": [],
            "needs_background": "light"
          }
        }
      ]
    },
    {
      "cell_type": "markdown",
      "metadata": {
        "id": "rDoLE00xN7OT",
        "colab_type": "text"
      },
      "source": [
        "**STEP 5**"
      ]
    },
    {
      "cell_type": "markdown",
      "metadata": {
        "id": "Ts-5NdOTN7OT",
        "colab_type": "text"
      },
      "source": [
        "**Prediction of prices**"
      ]
    },
    {
      "cell_type": "markdown",
      "metadata": {
        "id": "sCfzMu16N7OT",
        "colab_type": "text"
      },
      "source": [
        "We obtained the final values of m & c in step 4.using these values we obtain predictions for the values in the testing data"
      ]
    },
    {
      "cell_type": "markdown",
      "metadata": {
        "id": "7ZylheBYN7OX",
        "colab_type": "text"
      },
      "source": [
        "Then we will evaluate the model with certain metrics such as RMSE,R2 score etc..The choice of the metrics will depend on the type of the data.That is categorical (or) continuous etc.."
      ]
    },
    {
      "cell_type": "code",
      "metadata": {
        "id": "MbBxOdcLN7OX",
        "colab_type": "code",
        "colab": {}
      },
      "source": [
        "# Calculate the predictions on the test set as a  vectorized operation.\n",
        "y_predict=(m*x_test)+c"
      ],
      "execution_count": 0,
      "outputs": []
    },
    {
      "cell_type": "code",
      "metadata": {
        "id": "G6f8bGoiN7Ob",
        "colab_type": "code",
        "colab": {},
        "outputId": "8437e368-f305-4628-e422-fda87f5831c1"
      },
      "source": [
        "# Compute MSE for the predicted values on the testing set.\n",
        "mean_squared_error(y_test,y_predict)"
      ],
      "execution_count": 0,
      "outputs": [
        {
          "output_type": "execute_result",
          "data": {
            "text/plain": [
              "0.018401797612915854"
            ]
          },
          "metadata": {
            "tags": []
          },
          "execution_count": 80
        }
      ]
    },
    {
      "cell_type": "code",
      "metadata": {
        "id": "8QUEwsTxN7Od",
        "colab_type": "code",
        "colab": {}
      },
      "source": [
        "p=pd.DataFrame(list(zip(x_test,y_test,y_predict)),columns=[\"x\",\"target_y\",\"predicted_y\"])"
      ],
      "execution_count": 0,
      "outputs": []
    },
    {
      "cell_type": "code",
      "metadata": {
        "id": "eEHHxs6AN7Og",
        "colab_type": "code",
        "colab": {},
        "outputId": "b4078893-8043-4ab1-9226-687cf462a9f1"
      },
      "source": [
        "p.head()"
      ],
      "execution_count": 0,
      "outputs": [
        {
          "output_type": "execute_result",
          "data": {
            "text/html": [
              "<div>\n",
              "<style scoped>\n",
              "    .dataframe tbody tr th:only-of-type {\n",
              "        vertical-align: middle;\n",
              "    }\n",
              "\n",
              "    .dataframe tbody tr th {\n",
              "        vertical-align: top;\n",
              "    }\n",
              "\n",
              "    .dataframe thead th {\n",
              "        text-align: right;\n",
              "    }\n",
              "</style>\n",
              "<table border=\"1\" class=\"dataframe\">\n",
              "  <thead>\n",
              "    <tr style=\"text-align: right;\">\n",
              "      <th></th>\n",
              "      <th>x</th>\n",
              "      <th>target_y</th>\n",
              "      <th>predicted_y</th>\n",
              "    </tr>\n",
              "  </thead>\n",
              "  <tbody>\n",
              "    <tr>\n",
              "      <th>0</th>\n",
              "      <td>0.449779</td>\n",
              "      <td>0.213333</td>\n",
              "      <td>0.276415</td>\n",
              "    </tr>\n",
              "    <tr>\n",
              "      <th>1</th>\n",
              "      <td>0.031457</td>\n",
              "      <td>0.697778</td>\n",
              "      <td>0.596482</td>\n",
              "    </tr>\n",
              "    <tr>\n",
              "      <th>2</th>\n",
              "      <td>0.034216</td>\n",
              "      <td>1.000000</td>\n",
              "      <td>0.594370</td>\n",
              "    </tr>\n",
              "    <tr>\n",
              "      <th>3</th>\n",
              "      <td>0.583609</td>\n",
              "      <td>0.173333</td>\n",
              "      <td>0.174019</td>\n",
              "    </tr>\n",
              "    <tr>\n",
              "      <th>4</th>\n",
              "      <td>0.098234</td>\n",
              "      <td>0.375556</td>\n",
              "      <td>0.545389</td>\n",
              "    </tr>\n",
              "  </tbody>\n",
              "</table>\n",
              "</div>"
            ],
            "text/plain": [
              "          x  target_y  predicted_y\n",
              "0  0.449779  0.213333     0.276415\n",
              "1  0.031457  0.697778     0.596482\n",
              "2  0.034216  1.000000     0.594370\n",
              "3  0.583609  0.173333     0.174019\n",
              "4  0.098234  0.375556     0.545389"
            ]
          },
          "metadata": {
            "tags": []
          },
          "execution_count": 82
        }
      ]
    },
    {
      "cell_type": "markdown",
      "metadata": {
        "id": "rqHh8RjVN7Oj",
        "colab_type": "text"
      },
      "source": [
        "Plot the predicted values aganist the target values :"
      ]
    },
    {
      "cell_type": "markdown",
      "metadata": {
        "id": "iY47cIfbN7Oj",
        "colab_type": "text"
      },
      "source": [
        "1 . Predicted values are represented by red colored line"
      ]
    },
    {
      "cell_type": "markdown",
      "metadata": {
        "id": "FNHiiIfLN7Oj",
        "colab_type": "text"
      },
      "source": [
        "2 . Target values are represented by blue colored line"
      ]
    },
    {
      "cell_type": "code",
      "metadata": {
        "id": "f3URcnYBN7Ok",
        "colab_type": "code",
        "colab": {},
        "outputId": "117e72ce-4aba-4d3c-c593-dc3aecc84534"
      },
      "source": [
        "plt.scatter(x_test,y_test,color=\"b\") \n",
        "plt.plot(x_test,y_predict,color=\"r\")"
      ],
      "execution_count": 0,
      "outputs": [
        {
          "output_type": "execute_result",
          "data": {
            "text/plain": [
              "[<matplotlib.lines.Line2D at 0x27247a03a08>]"
            ]
          },
          "metadata": {
            "tags": []
          },
          "execution_count": 83
        },
        {
          "output_type": "display_data",
          "data": {
            "image/png": "[encoded data removed]",
            "text/plain": [
              "<Figure size 432x288 with 1 Axes>"
            ]
          },
          "metadata": {
            "tags": [],
            "needs_background": "light"
          }
        }
      ]
    },
    {
      "cell_type": "markdown",
      "metadata": {
        "id": "qWPEv2T5N7Om",
        "colab_type": "text"
      },
      "source": [
        "**Revert the normalization to obtain the predicted price of the houses in $1000s**"
      ]
    },
    {
      "cell_type": "markdown",
      "metadata": {
        "id": "FsoH4dDON7On",
        "colab_type": "text"
      },
      "source": [
        "The predicted values are in the range of 0 to 1.but,this is not useful to us when we want to predict the prices"
      ]
    },
    {
      "cell_type": "markdown",
      "metadata": {
        "id": "ZAmz8owcN7On",
        "colab_type": "text"
      },
      "source": [
        "so,Use inverse_transform() to scale the values back to original representation"
      ]
    },
    {
      "cell_type": "code",
      "metadata": {
        "id": "W9jE59UbN7Oo",
        "colab_type": "code",
        "colab": {},
        "outputId": "e90d824b-9816-4ac1-dddc-3a5240657f3b"
      },
      "source": [
        "# Reshape to change the shape that is required by the scaler\n",
        "x_test=x_test.reshape(-1,1)\n",
        "y_test=y_test.reshape(-1,1)\n",
        "y_predict=y_predict.reshape(-1,1)\n",
        "\n",
        "x_test_scaled=x_scaler.inverse_transform(x_test)\n",
        "y_test_scaled=y_scaler.inverse_transform(y_test)\n",
        "y_predict_scaled=y_scaler.inverse_transform(y_predict)\n",
        "\n",
        "# This is to remove the extra dimension\n",
        "x_test_scaled=x_test_scaled[:,-1]\n",
        "y_test_scaled=y_test_scaled[:,-1]\n",
        "y_predict_scaled=y_predict_scaled[:,-1]\n",
        "\n",
        "p=pd.DataFrame(list(zip(x_test_scaled,y_test_scaled,y_predict_scaled)),columns=[\"x\",\"target_y\",\"predicted_y\"])\n",
        "p=p.round(decimals=2)\n",
        "p.head()"
      ],
      "execution_count": 0,
      "outputs": [
        {
          "output_type": "execute_result",
          "data": {
            "text/html": [
              "<div>\n",
              "<style scoped>\n",
              "    .dataframe tbody tr th:only-of-type {\n",
              "        vertical-align: middle;\n",
              "    }\n",
              "\n",
              "    .dataframe tbody tr th {\n",
              "        vertical-align: top;\n",
              "    }\n",
              "\n",
              "    .dataframe thead th {\n",
              "        text-align: right;\n",
              "    }\n",
              "</style>\n",
              "<table border=\"1\" class=\"dataframe\">\n",
              "  <thead>\n",
              "    <tr style=\"text-align: right;\">\n",
              "      <th></th>\n",
              "      <th>x</th>\n",
              "      <th>target_y</th>\n",
              "      <th>predicted_y</th>\n",
              "    </tr>\n",
              "  </thead>\n",
              "  <tbody>\n",
              "    <tr>\n",
              "      <th>0</th>\n",
              "      <td>18.03</td>\n",
              "      <td>14.6</td>\n",
              "      <td>17.44</td>\n",
              "    </tr>\n",
              "    <tr>\n",
              "      <th>1</th>\n",
              "      <td>2.87</td>\n",
              "      <td>36.4</td>\n",
              "      <td>31.84</td>\n",
              "    </tr>\n",
              "    <tr>\n",
              "      <th>2</th>\n",
              "      <td>2.97</td>\n",
              "      <td>50.0</td>\n",
              "      <td>31.75</td>\n",
              "    </tr>\n",
              "    <tr>\n",
              "      <th>3</th>\n",
              "      <td>22.88</td>\n",
              "      <td>12.8</td>\n",
              "      <td>12.83</td>\n",
              "    </tr>\n",
              "    <tr>\n",
              "      <th>4</th>\n",
              "      <td>5.29</td>\n",
              "      <td>21.9</td>\n",
              "      <td>29.54</td>\n",
              "    </tr>\n",
              "  </tbody>\n",
              "</table>\n",
              "</div>"
            ],
            "text/plain": [
              "       x  target_y  predicted_y\n",
              "0  18.03      14.6        17.44\n",
              "1   2.87      36.4        31.84\n",
              "2   2.97      50.0        31.75\n",
              "3  22.88      12.8        12.83\n",
              "4   5.29      21.9        29.54"
            ]
          },
          "metadata": {
            "tags": []
          },
          "execution_count": 84
        }
      ]
    }
  ]
}