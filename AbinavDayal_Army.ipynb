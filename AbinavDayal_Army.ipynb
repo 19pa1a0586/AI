{
  "nbformat": 4,
  "nbformat_minor": 0,
  "metadata": {
    "colab": {
      "name": "AbinavDayal_Army.ipynb",
      "provenance": [],
      "authorship_tag": "ABX9TyO11yVlij19oOCf2lGNOqC9",
      "include_colab_link": true
    },
    "kernelspec": {
      "name": "python3",
      "display_name": "Python 3"
    }
  },
  "cells": [
    {
      "cell_type": "markdown",
      "metadata": {
        "id": "view-in-github",
        "colab_type": "text"
      },
      "source": [
        "<a href=\"https://colab.research.google.com/github/19pa1a0586/AI/blob/master/AbinavDayal_Army.ipynb\" target=\"_parent\"><img src=\"https://colab.research.google.com/assets/colab-badge.svg\" alt=\"Open In Colab\"/></a>"
      ]
    },
    {
      "cell_type": "code",
      "metadata": {
        "id": "0IthsJ7dWxQ1",
        "colab_type": "code",
        "colab": {}
      },
      "source": [
        "import pandas as pd\n",
        "import numpy as np\n",
        "import matplotlib.pyplot as plt"
      ],
      "execution_count": 0,
      "outputs": []
    },
    {
      "cell_type": "code",
      "metadata": {
        "id": "6XRRPXYfXLG-",
        "colab_type": "code",
        "colab": {
          "base_uri": "https://localhost:8080/",
          "height": 68
        },
        "outputId": "9c44194b-678c-4418-a712-98e2b8c95f86"
      },
      "source": [
        "sd=pd.read_csv(\"CBSE_Schools_Data.csv\")\n",
        "sd.columns"
      ],
      "execution_count": 7,
      "outputs": [
        {
          "output_type": "execute_result",
          "data": {
            "text/plain": [
              "Index(['name', 'state', 'district', 'region', 'address', 'pincode', 'ph_no',\n",
              "       'off_ph_no', 'fax_no', 'year_found', 'date_opened', 'princi_name'],\n",
              "      dtype='object')"
            ]
          },
          "metadata": {
            "tags": []
          },
          "execution_count": 7
        }
      ]
    },
    {
      "cell_type": "code",
      "metadata": {
        "id": "uMCfNfmpXxgH",
        "colab_type": "code",
        "colab": {}
      },
      "source": [
        "#name         :     Name of the school\n",
        "#state        :     The school belongs to this state\n",
        "#district     :     The school belongs to this district\n",
        "#region       :     The school is located at this region\n",
        "#address      :     Address of the school\n",
        "#pincode      :     Pincode of that region\n",
        "#ph_no        :     Phone number of the school\n",
        "#off_ph_no    :     Office phone number of the school\n",
        "#fax_no       :     Fax number of the school\n",
        "#year_found   :     The school is found in this year\n",
        "#date_opened  :     The school opened on this date\n",
        "#princi_name  :     Name of the principle to the school"
      ],
      "execution_count": 0,
      "outputs": []
    },
    {
      "cell_type": "code",
      "metadata": {
        "id": "uySnszsBenlk",
        "colab_type": "code",
        "colab": {}
      },
      "source": [
        ""
      ],
      "execution_count": 0,
      "outputs": []
    }
  ]
}