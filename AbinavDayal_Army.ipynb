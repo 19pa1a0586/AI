{
  "nbformat": 4,
  "nbformat_minor": 0,
  "metadata": {
    "colab": {
      "name": "AbinavDayal_Army.ipynb",
      "provenance": [],
      "collapsed_sections": [],
      "authorship_tag": "ABX9TyNd6Rt1Ed0BjQWiWmkOSMN5",
      "include_colab_link": true
    },
    "kernelspec": {
      "name": "python3",
      "display_name": "Python 3"
    }
  },
  "cells": [
    {
      "cell_type": "markdown",
      "metadata": {
        "id": "view-in-github",
        "colab_type": "text"
      },
      "source": [
        "<a href=\"https://colab.research.google.com/github/19pa1a0586/AI/blob/master/AbinavDayal_Army.ipynb\" target=\"_parent\"><img src=\"https://colab.research.google.com/assets/colab-badge.svg\" alt=\"Open In Colab\"/></a>"
      ]
    },
    {
      "cell_type": "code",
      "metadata": {
        "id": "0IthsJ7dWxQ1",
        "colab_type": "code",
        "colab": {}
      },
      "source": [
        "import pandas as pd\n",
        "import numpy as np\n",
        "import matplotlib.pyplot as plt"
      ],
      "execution_count": 0,
      "outputs": []
    },
    {
      "cell_type": "code",
      "metadata": {
        "id": "6XRRPXYfXLG-",
        "colab_type": "code",
        "outputId": "9c44194b-678c-4418-a712-98e2b8c95f86",
        "colab": {
          "base_uri": "https://localhost:8080/",
          "height": 68
        }
      },
      "source": [
        "sd=pd.read_csv(\"CBSE_Schools_Data.csv\")\n",
        "sd.columns"
      ],
      "execution_count": 0,
      "outputs": [
        {
          "output_type": "execute_result",
          "data": {
            "text/plain": [
              "Index(['name', 'state', 'district', 'region', 'address', 'pincode', 'ph_no',\n",
              "       'off_ph_no', 'fax_no', 'year_found', 'date_opened', 'princi_name'],\n",
              "      dtype='object')"
            ]
          },
          "metadata": {
            "tags": []
          },
          "execution_count": 7
        }
      ]
    },
    {
      "cell_type": "code",
      "metadata": {
        "id": "uMCfNfmpXxgH",
        "colab_type": "code",
        "colab": {}
      },
      "source": [
        "#name         :     Name of the school\n",
        "#state        :     The school belongs to particular state\n",
        "#district     :     The school belongs to particular district\n",
        "#region       :     The school is located at particular region\n",
        "#address      :     Address of the school\n",
        "#pincode      :     Pincode of that region\n",
        "#ph_no        :     Phone number of the school\n",
        "#off_ph_no    :     Office phone number of the school\n",
        "#fax_no       :     Fax number of the school\n",
        "#year_found   :     The school is found in this year\n",
        "#date_opened  :     The school opened on this date\n",
        "#princi_name  :     Name of the principle to the school"
      ],
      "execution_count": 0,
      "outputs": []
    },
    {
      "cell_type": "code",
      "metadata": {
        "id": "uySnszsBenlk",
        "colab_type": "code",
        "outputId": "68e0865f-aa7f-48b6-c528-3fc3700e1318",
        "colab": {
          "base_uri": "https://localhost:8080/",
          "height": 1000
        }
      },
      "source": [
        "sd"
      ],
      "execution_count": 0,
      "outputs": [
        {
          "output_type": "execute_result",
          "data": {
            "text/html": [
              "<div>\n",
              "<style scoped>\n",
              "    .dataframe tbody tr th:only-of-type {\n",
              "        vertical-align: middle;\n",
              "    }\n",
              "\n",
              "    .dataframe tbody tr th {\n",
              "        vertical-align: top;\n",
              "    }\n",
              "\n",
              "    .dataframe thead th {\n",
              "        text-align: right;\n",
              "    }\n",
              "</style>\n",
              "<table border=\"1\" class=\"dataframe\">\n",
              "  <thead>\n",
              "    <tr style=\"text-align: right;\">\n",
              "      <th></th>\n",
              "      <th>name</th>\n",
              "      <th>state</th>\n",
              "      <th>district</th>\n",
              "      <th>region</th>\n",
              "      <th>address</th>\n",
              "      <th>pincode</th>\n",
              "      <th>ph_no</th>\n",
              "      <th>off_ph_no</th>\n",
              "      <th>fax_no</th>\n",
              "      <th>year_found</th>\n",
              "      <th>date_opened</th>\n",
              "      <th>princi_name</th>\n",
              "    </tr>\n",
              "  </thead>\n",
              "  <tbody>\n",
              "    <tr>\n",
              "      <th>0</th>\n",
              "      <td>PARAM POOJYA SHREE RAMKRISHNA SARASWATI GURUKUL</td>\n",
              "      <td>MAHARASHTRA</td>\n",
              "      <td>JALGAON</td>\n",
              "      <td>CHENNAI</td>\n",
              "      <td>AT-UMALE, POST-DHANWAD,</td>\n",
              "      <td>425003</td>\n",
              "      <td>1482.0</td>\n",
              "      <td>2572350513</td>\n",
              "      <td>2572350516</td>\n",
              "      <td>1995.0</td>\n",
              "      <td>1-Jun-06</td>\n",
              "      <td>SHUKLA R N</td>\n",
              "    </tr>\n",
              "    <tr>\n",
              "      <th>1</th>\n",
              "      <td>RANI PUBLIC SCHOOL</td>\n",
              "      <td>KERALA</td>\n",
              "      <td>KOZHIKODE</td>\n",
              "      <td>TRIVANDRUM</td>\n",
              "      <td>PO CHORODE VIA VADAKARA DISTT KOZHIKODE, KERALA</td>\n",
              "      <td>673106</td>\n",
              "      <td>496.0</td>\n",
              "      <td>2515775</td>\n",
              "      <td>NaN</td>\n",
              "      <td>1997.0</td>\n",
              "      <td>5-Jun-00</td>\n",
              "      <td>GEETALAXMI SATHYANATHAN</td>\n",
              "    </tr>\n",
              "    <tr>\n",
              "      <th>2</th>\n",
              "      <td>MANAV SEHYOG SCHOOL</td>\n",
              "      <td>PUNJAB</td>\n",
              "      <td>JULLUNDUR</td>\n",
              "      <td>PANCHKULA</td>\n",
              "      <td>VILLAGE SHAHPUR , V.P.O. UDOPUR , VIA JAMSHER ...</td>\n",
              "      <td>144026</td>\n",
              "      <td>181.0</td>\n",
              "      <td>8725061711</td>\n",
              "      <td>252125</td>\n",
              "      <td>2003.0</td>\n",
              "      <td>1-Apr-03</td>\n",
              "      <td>RAJNI SHARMA</td>\n",
              "    </tr>\n",
              "    <tr>\n",
              "      <th>3</th>\n",
              "      <td>GOVT BOYS SR SEC SCHOOL</td>\n",
              "      <td>DELHI</td>\n",
              "      <td>NaN</td>\n",
              "      <td>DELHI</td>\n",
              "      <td>(CHANDER NAGAR) C BLOCK KRISHAN NAGAR DELHI</td>\n",
              "      <td>110051</td>\n",
              "      <td>11.0</td>\n",
              "      <td>22093931</td>\n",
              "      <td>NaN</td>\n",
              "      <td>1965.0</td>\n",
              "      <td>1-Apr-91</td>\n",
              "      <td>DINESH KUMAR</td>\n",
              "    </tr>\n",
              "    <tr>\n",
              "      <th>4</th>\n",
              "      <td>GOVT. SEC. SCHOOL, GANGA P.O</td>\n",
              "      <td>ARUNACHAL PRADESH</td>\n",
              "      <td>PAPUMPARA</td>\n",
              "      <td>GUWAHATI</td>\n",
              "      <td>RK MISSION, ITANAGAGAR DIST. PAPUMPARE, ARUNAC...</td>\n",
              "      <td>791113</td>\n",
              "      <td>360.0</td>\n",
              "      <td>9436050549</td>\n",
              "      <td>NaN</td>\n",
              "      <td>NaN</td>\n",
              "      <td>1-Apr-91</td>\n",
              "      <td>MOKIR KAMKI</td>\n",
              "    </tr>\n",
              "    <tr>\n",
              "      <th>...</th>\n",
              "      <td>...</td>\n",
              "      <td>...</td>\n",
              "      <td>...</td>\n",
              "      <td>...</td>\n",
              "      <td>...</td>\n",
              "      <td>...</td>\n",
              "      <td>...</td>\n",
              "      <td>...</td>\n",
              "      <td>...</td>\n",
              "      <td>...</td>\n",
              "      <td>...</td>\n",
              "      <td>...</td>\n",
              "    </tr>\n",
              "    <tr>\n",
              "      <th>20362</th>\n",
              "      <td>GOVT. BOYS SR. SEC. SCHOOL</td>\n",
              "      <td>DELHI</td>\n",
              "      <td>NaN</td>\n",
              "      <td>DELHI</td>\n",
              "      <td>B-BLOCK (AH) SHALIMAR BAGH DELHI</td>\n",
              "      <td>110088</td>\n",
              "      <td>NaN</td>\n",
              "      <td>27483064</td>\n",
              "      <td>NaN</td>\n",
              "      <td>1985.0</td>\n",
              "      <td>1-Apr-91</td>\n",
              "      <td>MUNNA PANDEY</td>\n",
              "    </tr>\n",
              "    <tr>\n",
              "      <th>20363</th>\n",
              "      <td>ST. XAVIER'S SENIOR SECONDARY SCHOOL, SIRSA HA...</td>\n",
              "      <td>HARYANA</td>\n",
              "      <td>SIRSA</td>\n",
              "      <td>PANCHKULA</td>\n",
              "      <td>NEAR RAILWAY COLONY\\nST. XAVIERS SENIOR SECOND...</td>\n",
              "      <td>125055</td>\n",
              "      <td>1275.0</td>\n",
              "      <td>224450</td>\n",
              "      <td>NaN</td>\n",
              "      <td>1974.0</td>\n",
              "      <td>1-Apr-74</td>\n",
              "      <td>FR JOHN M FERNANDES</td>\n",
              "    </tr>\n",
              "    <tr>\n",
              "      <th>20364</th>\n",
              "      <td>ST. MARY'S SECONDARY SCHOOL</td>\n",
              "      <td>UTTARAKHAND</td>\n",
              "      <td>NAINITAL</td>\n",
              "      <td>DEHRADUN</td>\n",
              "      <td>BAZPUR NAINITAL UTTARANCHAL</td>\n",
              "      <td>262401</td>\n",
              "      <td>535.0</td>\n",
              "      <td>281328</td>\n",
              "      <td>NaN</td>\n",
              "      <td>1965.0</td>\n",
              "      <td>5-Apr-05</td>\n",
              "      <td>SR SANDHYA MATHEW</td>\n",
              "    </tr>\n",
              "    <tr>\n",
              "      <th>20365</th>\n",
              "      <td>SATYAMEVA JAYATE INTERNATIONAL SCHOOL</td>\n",
              "      <td>GUJARAT</td>\n",
              "      <td>AHMEDABAD</td>\n",
              "      <td>AJMER</td>\n",
              "      <td>E-1/41, STERLING CITY, BOPAL</td>\n",
              "      <td>380058</td>\n",
              "      <td>NaN</td>\n",
              "      <td>230039</td>\n",
              "      <td>2717230530</td>\n",
              "      <td>2000.0</td>\n",
              "      <td>2-Jun-03</td>\n",
              "      <td>NAMITA KHURANA</td>\n",
              "    </tr>\n",
              "    <tr>\n",
              "      <th>20366</th>\n",
              "      <td>KENDRIYA VIDYALAYA</td>\n",
              "      <td>RAJASTHAN</td>\n",
              "      <td>TONK</td>\n",
              "      <td>AJMER</td>\n",
              "      <td>GULZAR BAGH, CAMPUS, NEAR HEAD POST OFFICE, TO...</td>\n",
              "      <td>304001</td>\n",
              "      <td>2114.0</td>\n",
              "      <td>253900</td>\n",
              "      <td>NaN</td>\n",
              "      <td>1986.0</td>\n",
              "      <td>1-Apr-91</td>\n",
              "      <td>SHRI PHOOL MEENA</td>\n",
              "    </tr>\n",
              "  </tbody>\n",
              "</table>\n",
              "<p>20367 rows × 12 columns</p>\n",
              "</div>"
            ],
            "text/plain": [
              "                                                    name  ...              princi_name\n",
              "0        PARAM POOJYA SHREE RAMKRISHNA SARASWATI GURUKUL  ...               SHUKLA R N\n",
              "1                                     RANI PUBLIC SCHOOL  ...  GEETALAXMI SATHYANATHAN\n",
              "2                                    MANAV SEHYOG SCHOOL  ...             RAJNI SHARMA\n",
              "3                                GOVT BOYS SR SEC SCHOOL  ...             DINESH KUMAR\n",
              "4                           GOVT. SEC. SCHOOL, GANGA P.O  ...              MOKIR KAMKI\n",
              "...                                                  ...  ...                      ...\n",
              "20362                         GOVT. BOYS SR. SEC. SCHOOL  ...             MUNNA PANDEY\n",
              "20363  ST. XAVIER'S SENIOR SECONDARY SCHOOL, SIRSA HA...  ...      FR JOHN M FERNANDES\n",
              "20364                        ST. MARY'S SECONDARY SCHOOL  ...        SR SANDHYA MATHEW\n",
              "20365              SATYAMEVA JAYATE INTERNATIONAL SCHOOL  ...           NAMITA KHURANA\n",
              "20366                                 KENDRIYA VIDYALAYA  ...         SHRI PHOOL MEENA\n",
              "\n",
              "[20367 rows x 12 columns]"
            ]
          },
          "metadata": {
            "tags": []
          },
          "execution_count": 9
        }
      ]
    },
    {
      "cell_type": "code",
      "metadata": {
        "id": "pmFqH6ingMOU",
        "colab_type": "code",
        "outputId": "effb63d5-0fed-4467-d170-b0976cb3556d",
        "colab": {
          "base_uri": "https://localhost:8080/",
          "height": 238
        }
      },
      "source": [
        "sd.dtypes # specifies the data type of each column"
      ],
      "execution_count": 0,
      "outputs": [
        {
          "output_type": "execute_result",
          "data": {
            "text/plain": [
              "name            object\n",
              "state           object\n",
              "district        object\n",
              "region          object\n",
              "address         object\n",
              "pincode         object\n",
              "ph_no          float64\n",
              "off_ph_no       object\n",
              "fax_no          object\n",
              "year_found     float64\n",
              "date_opened     object\n",
              "princi_name     object\n",
              "dtype: object"
            ]
          },
          "metadata": {
            "tags": []
          },
          "execution_count": 10
        }
      ]
    },
    {
      "cell_type": "code",
      "metadata": {
        "id": "akNQ0wubgO6Y",
        "colab_type": "code",
        "colab": {}
      },
      "source": [
        "sd[\"state\"]=sd.state.astype(\"category\") #changing data type of state .i.e, object into category"
      ],
      "execution_count": 0,
      "outputs": []
    },
    {
      "cell_type": "code",
      "metadata": {
        "id": "nDHyLH0NlXOb",
        "colab_type": "code",
        "outputId": "5b604744-1c51-4fb5-bceb-eddeeae3a141",
        "colab": {
          "base_uri": "https://localhost:8080/",
          "height": 238
        }
      },
      "source": [
        "sd.dtypes"
      ],
      "execution_count": 0,
      "outputs": [
        {
          "output_type": "execute_result",
          "data": {
            "text/plain": [
              "name             object\n",
              "state          category\n",
              "district         object\n",
              "region           object\n",
              "address          object\n",
              "pincode          object\n",
              "ph_no           float64\n",
              "off_ph_no        object\n",
              "fax_no           object\n",
              "year_found      float64\n",
              "date_opened      object\n",
              "princi_name      object\n",
              "dtype: object"
            ]
          },
          "metadata": {
            "tags": []
          },
          "execution_count": 13
        }
      ]
    },
    {
      "cell_type": "code",
      "metadata": {
        "id": "C_oqI8-bledL",
        "colab_type": "code",
        "outputId": "92dee3e3-bc62-4395-8495-7ac90118c11d",
        "colab": {
          "base_uri": "https://localhost:8080/",
          "height": 153
        }
      },
      "source": [
        "sd.state.head() #checking the data type of state"
      ],
      "execution_count": 0,
      "outputs": [
        {
          "output_type": "execute_result",
          "data": {
            "text/plain": [
              "0          MAHARASHTRA\n",
              "1               KERALA\n",
              "2               PUNJAB\n",
              "3                DELHI\n",
              "4    ARUNACHAL PRADESH\n",
              "Name: state, dtype: category\n",
              "Categories (37, object): [ANDAMAN & NICOBAR, ANDHRA PRADESH, ARUNACHAL PRADESH, ASSAM, ..., TRIPURA,\n",
              "                          UTTAR PRADESH, UTTARAKHAND, WEST BENGAL]"
            ]
          },
          "metadata": {
            "tags": []
          },
          "execution_count": 14
        }
      ]
    },
    {
      "cell_type": "code",
      "metadata": {
        "id": "4b_eBbJIoIzC",
        "colab_type": "code",
        "outputId": "d370256e-05da-4c3e-d9b4-d8810dc4f5cb",
        "colab": {
          "base_uri": "https://localhost:8080/",
          "height": 238
        }
      },
      "source": [
        "sd.isnull().sum()"
      ],
      "execution_count": 0,
      "outputs": [
        {
          "output_type": "execute_result",
          "data": {
            "text/plain": [
              "name               0\n",
              "state              0\n",
              "district        2903\n",
              "region             0\n",
              "address            0\n",
              "pincode          642\n",
              "ph_no           9999\n",
              "off_ph_no        732\n",
              "fax_no         13754\n",
              "year_found       806\n",
              "date_opened     1408\n",
              "princi_name      389\n",
              "dtype: int64"
            ]
          },
          "metadata": {
            "tags": []
          },
          "execution_count": 17
        }
      ]
    },
    {
      "cell_type": "code",
      "metadata": {
        "id": "b8tFcaoHvtpT",
        "colab_type": "code",
        "outputId": "20d896f1-e5f4-4fc5-f517-e255a16c5305",
        "colab": {
          "base_uri": "https://localhost:8080/",
          "height": 51
        }
      },
      "source": [
        "sd[\"pincode\"].mode()"
      ],
      "execution_count": 55,
      "outputs": [
        {
          "output_type": "execute_result",
          "data": {
            "text/plain": [
              "0    110041\n",
              "dtype: object"
            ]
          },
          "metadata": {
            "tags": []
          },
          "execution_count": 55
        }
      ]
    },
    {
      "cell_type": "code",
      "metadata": {
        "id": "TokxVk0ZwyTr",
        "colab_type": "code",
        "colab": {}
      },
      "source": [
        "sd=sd.fillna(method='bfill')"
      ],
      "execution_count": 0,
      "outputs": []
    },
    {
      "cell_type": "code",
      "metadata": {
        "id": "7BeDFsWS3EMs",
        "colab_type": "code",
        "colab": {
          "base_uri": "https://localhost:8080/",
          "height": 238
        },
        "outputId": "d506e377-350d-4018-b635-4723e60ee62d"
      },
      "source": [
        "sd.isnull().sum()"
      ],
      "execution_count": 57,
      "outputs": [
        {
          "output_type": "execute_result",
          "data": {
            "text/plain": [
              "name           0\n",
              "state          0\n",
              "district       0\n",
              "region         0\n",
              "address        0\n",
              "pincode        0\n",
              "ph_no          0\n",
              "off_ph_no      0\n",
              "fax_no         1\n",
              "year_found     0\n",
              "date_opened    0\n",
              "princi_name    0\n",
              "dtype: int64"
            ]
          },
          "metadata": {
            "tags": []
          },
          "execution_count": 57
        }
      ]
    },
    {
      "cell_type": "code",
      "metadata": {
        "id": "Dlu3r0cP5stg",
        "colab_type": "code",
        "colab": {
          "base_uri": "https://localhost:8080/",
          "height": 1000
        },
        "outputId": "6def9c47-1473-4952-ad7d-38a489afe311"
      },
      "source": [
        "sd"
      ],
      "execution_count": 58,
      "outputs": [
        {
          "output_type": "execute_result",
          "data": {
            "text/html": [
              "<div>\n",
              "<style scoped>\n",
              "    .dataframe tbody tr th:only-of-type {\n",
              "        vertical-align: middle;\n",
              "    }\n",
              "\n",
              "    .dataframe tbody tr th {\n",
              "        vertical-align: top;\n",
              "    }\n",
              "\n",
              "    .dataframe thead th {\n",
              "        text-align: right;\n",
              "    }\n",
              "</style>\n",
              "<table border=\"1\" class=\"dataframe\">\n",
              "  <thead>\n",
              "    <tr style=\"text-align: right;\">\n",
              "      <th></th>\n",
              "      <th>name</th>\n",
              "      <th>state</th>\n",
              "      <th>district</th>\n",
              "      <th>region</th>\n",
              "      <th>address</th>\n",
              "      <th>pincode</th>\n",
              "      <th>ph_no</th>\n",
              "      <th>off_ph_no</th>\n",
              "      <th>fax_no</th>\n",
              "      <th>year_found</th>\n",
              "      <th>date_opened</th>\n",
              "      <th>princi_name</th>\n",
              "    </tr>\n",
              "  </thead>\n",
              "  <tbody>\n",
              "    <tr>\n",
              "      <th>0</th>\n",
              "      <td>PARAM POOJYA SHREE RAMKRISHNA SARASWATI GURUKUL</td>\n",
              "      <td>MAHARASHTRA</td>\n",
              "      <td>JALGAON</td>\n",
              "      <td>CHENNAI</td>\n",
              "      <td>AT-UMALE, POST-DHANWAD,</td>\n",
              "      <td>425003</td>\n",
              "      <td>1482.0</td>\n",
              "      <td>2572350513</td>\n",
              "      <td>2572350516</td>\n",
              "      <td>1995.0</td>\n",
              "      <td>1-Jun-06</td>\n",
              "      <td>SHUKLA R N</td>\n",
              "    </tr>\n",
              "    <tr>\n",
              "      <th>1</th>\n",
              "      <td>RANI PUBLIC SCHOOL</td>\n",
              "      <td>KERALA</td>\n",
              "      <td>KOZHIKODE</td>\n",
              "      <td>TRIVANDRUM</td>\n",
              "      <td>PO CHORODE VIA VADAKARA DISTT KOZHIKODE, KERALA</td>\n",
              "      <td>673106</td>\n",
              "      <td>496.0</td>\n",
              "      <td>2515775</td>\n",
              "      <td>252125</td>\n",
              "      <td>1997.0</td>\n",
              "      <td>5-Jun-00</td>\n",
              "      <td>GEETALAXMI SATHYANATHAN</td>\n",
              "    </tr>\n",
              "    <tr>\n",
              "      <th>2</th>\n",
              "      <td>MANAV SEHYOG SCHOOL</td>\n",
              "      <td>PUNJAB</td>\n",
              "      <td>JULLUNDUR</td>\n",
              "      <td>PANCHKULA</td>\n",
              "      <td>VILLAGE SHAHPUR , V.P.O. UDOPUR , VIA JAMSHER ...</td>\n",
              "      <td>144026</td>\n",
              "      <td>181.0</td>\n",
              "      <td>8725061711</td>\n",
              "      <td>252125</td>\n",
              "      <td>2003.0</td>\n",
              "      <td>1-Apr-03</td>\n",
              "      <td>RAJNI SHARMA</td>\n",
              "    </tr>\n",
              "    <tr>\n",
              "      <th>3</th>\n",
              "      <td>GOVT BOYS SR SEC SCHOOL</td>\n",
              "      <td>DELHI</td>\n",
              "      <td>PAPUMPARA</td>\n",
              "      <td>DELHI</td>\n",
              "      <td>(CHANDER NAGAR) C BLOCK KRISHAN NAGAR DELHI</td>\n",
              "      <td>110051</td>\n",
              "      <td>11.0</td>\n",
              "      <td>22093931</td>\n",
              "      <td>562</td>\n",
              "      <td>1965.0</td>\n",
              "      <td>1-Apr-91</td>\n",
              "      <td>DINESH KUMAR</td>\n",
              "    </tr>\n",
              "    <tr>\n",
              "      <th>4</th>\n",
              "      <td>GOVT. SEC. SCHOOL, GANGA P.O</td>\n",
              "      <td>ARUNACHAL PRADESH</td>\n",
              "      <td>PAPUMPARA</td>\n",
              "      <td>GUWAHATI</td>\n",
              "      <td>RK MISSION, ITANAGAGAR DIST. PAPUMPARE, ARUNAC...</td>\n",
              "      <td>791113</td>\n",
              "      <td>360.0</td>\n",
              "      <td>9436050549</td>\n",
              "      <td>562</td>\n",
              "      <td>2011.0</td>\n",
              "      <td>1-Apr-91</td>\n",
              "      <td>MOKIR KAMKI</td>\n",
              "    </tr>\n",
              "    <tr>\n",
              "      <th>...</th>\n",
              "      <td>...</td>\n",
              "      <td>...</td>\n",
              "      <td>...</td>\n",
              "      <td>...</td>\n",
              "      <td>...</td>\n",
              "      <td>...</td>\n",
              "      <td>...</td>\n",
              "      <td>...</td>\n",
              "      <td>...</td>\n",
              "      <td>...</td>\n",
              "      <td>...</td>\n",
              "      <td>...</td>\n",
              "    </tr>\n",
              "    <tr>\n",
              "      <th>20362</th>\n",
              "      <td>GOVT. BOYS SR. SEC. SCHOOL</td>\n",
              "      <td>DELHI</td>\n",
              "      <td>SIRSA</td>\n",
              "      <td>DELHI</td>\n",
              "      <td>B-BLOCK (AH) SHALIMAR BAGH DELHI</td>\n",
              "      <td>110088</td>\n",
              "      <td>1275.0</td>\n",
              "      <td>27483064</td>\n",
              "      <td>2717230530</td>\n",
              "      <td>1985.0</td>\n",
              "      <td>1-Apr-91</td>\n",
              "      <td>MUNNA PANDEY</td>\n",
              "    </tr>\n",
              "    <tr>\n",
              "      <th>20363</th>\n",
              "      <td>ST. XAVIER'S SENIOR SECONDARY SCHOOL, SIRSA HA...</td>\n",
              "      <td>HARYANA</td>\n",
              "      <td>SIRSA</td>\n",
              "      <td>PANCHKULA</td>\n",
              "      <td>NEAR RAILWAY COLONY\\nST. XAVIERS SENIOR SECOND...</td>\n",
              "      <td>125055</td>\n",
              "      <td>1275.0</td>\n",
              "      <td>224450</td>\n",
              "      <td>2717230530</td>\n",
              "      <td>1974.0</td>\n",
              "      <td>1-Apr-74</td>\n",
              "      <td>FR JOHN M FERNANDES</td>\n",
              "    </tr>\n",
              "    <tr>\n",
              "      <th>20364</th>\n",
              "      <td>ST. MARY'S SECONDARY SCHOOL</td>\n",
              "      <td>UTTARAKHAND</td>\n",
              "      <td>NAINITAL</td>\n",
              "      <td>DEHRADUN</td>\n",
              "      <td>BAZPUR NAINITAL UTTARANCHAL</td>\n",
              "      <td>262401</td>\n",
              "      <td>535.0</td>\n",
              "      <td>281328</td>\n",
              "      <td>2717230530</td>\n",
              "      <td>1965.0</td>\n",
              "      <td>5-Apr-05</td>\n",
              "      <td>SR SANDHYA MATHEW</td>\n",
              "    </tr>\n",
              "    <tr>\n",
              "      <th>20365</th>\n",
              "      <td>SATYAMEVA JAYATE INTERNATIONAL SCHOOL</td>\n",
              "      <td>GUJARAT</td>\n",
              "      <td>AHMEDABAD</td>\n",
              "      <td>AJMER</td>\n",
              "      <td>E-1/41, STERLING CITY, BOPAL</td>\n",
              "      <td>380058</td>\n",
              "      <td>2114.0</td>\n",
              "      <td>230039</td>\n",
              "      <td>2717230530</td>\n",
              "      <td>2000.0</td>\n",
              "      <td>2-Jun-03</td>\n",
              "      <td>NAMITA KHURANA</td>\n",
              "    </tr>\n",
              "    <tr>\n",
              "      <th>20366</th>\n",
              "      <td>KENDRIYA VIDYALAYA</td>\n",
              "      <td>RAJASTHAN</td>\n",
              "      <td>TONK</td>\n",
              "      <td>AJMER</td>\n",
              "      <td>GULZAR BAGH, CAMPUS, NEAR HEAD POST OFFICE, TO...</td>\n",
              "      <td>304001</td>\n",
              "      <td>2114.0</td>\n",
              "      <td>253900</td>\n",
              "      <td>NaN</td>\n",
              "      <td>1986.0</td>\n",
              "      <td>1-Apr-91</td>\n",
              "      <td>SHRI PHOOL MEENA</td>\n",
              "    </tr>\n",
              "  </tbody>\n",
              "</table>\n",
              "<p>20367 rows × 12 columns</p>\n",
              "</div>"
            ],
            "text/plain": [
              "                                                    name  ...              princi_name\n",
              "0        PARAM POOJYA SHREE RAMKRISHNA SARASWATI GURUKUL  ...               SHUKLA R N\n",
              "1                                     RANI PUBLIC SCHOOL  ...  GEETALAXMI SATHYANATHAN\n",
              "2                                    MANAV SEHYOG SCHOOL  ...             RAJNI SHARMA\n",
              "3                                GOVT BOYS SR SEC SCHOOL  ...             DINESH KUMAR\n",
              "4                           GOVT. SEC. SCHOOL, GANGA P.O  ...              MOKIR KAMKI\n",
              "...                                                  ...  ...                      ...\n",
              "20362                         GOVT. BOYS SR. SEC. SCHOOL  ...             MUNNA PANDEY\n",
              "20363  ST. XAVIER'S SENIOR SECONDARY SCHOOL, SIRSA HA...  ...      FR JOHN M FERNANDES\n",
              "20364                        ST. MARY'S SECONDARY SCHOOL  ...        SR SANDHYA MATHEW\n",
              "20365              SATYAMEVA JAYATE INTERNATIONAL SCHOOL  ...           NAMITA KHURANA\n",
              "20366                                 KENDRIYA VIDYALAYA  ...         SHRI PHOOL MEENA\n",
              "\n",
              "[20367 rows x 12 columns]"
            ]
          },
          "metadata": {
            "tags": []
          },
          "execution_count": 58
        }
      ]
    }
  ]
}